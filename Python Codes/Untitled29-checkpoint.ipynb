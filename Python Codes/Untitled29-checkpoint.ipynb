{
 "cells": [
  {
   "cell_type": "code",
   "execution_count": 1,
   "id": "c32f623c",
   "metadata": {},
   "outputs": [
    {
     "name": "stdout",
     "output_type": "stream",
     "text": [
      "Enter the value of n : 5\n",
      "Enter the value of r : 8\n",
      "nCr =  0\n"
     ]
    }
   ],
   "source": [
    "def fact(a):\n",
    "    n_fact=1\n",
    "    for i in range(1,a+1):\n",
    "       n_fact = n_fact*i\n",
    "    return n_fact\n",
    "n = int(input(\"Enter the value of n : \"))\n",
    "b = fact(n)\n",
    "r = int(input(\"Enter the value of r : \"))\n",
    "c = fact(r)\n",
    "d = fact(n-r)\n",
    "com = b // (c*d)\n",
    "print(\"nCr = \", com)"
   ]
  },
  {
   "cell_type": "code",
   "execution_count": 2,
   "id": "c6207c6a",
   "metadata": {},
   "outputs": [],
   "source": [
    "def add(a,b,c):\n",
    "    s=a+b+c\n",
    "    print(s)"
   ]
  },
  {
   "cell_type": "code",
   "execution_count": 3,
   "id": "a75ed0e7",
   "metadata": {},
   "outputs": [
    {
     "name": "stdout",
     "output_type": "stream",
     "text": [
      "20\n",
      "21\n"
     ]
    }
   ],
   "source": [
    "add(5,5,10)\n",
    "add(5,8,8)"
   ]
  },
  {
   "cell_type": "code",
   "execution_count": 3,
   "id": "aee6c209",
   "metadata": {},
   "outputs": [
    {
     "name": "stdout",
     "output_type": "stream",
     "text": [
      "a = 8\n",
      "b = 6\n",
      "140706280412168\n",
      "140706280412104\n",
      "The value of a and b after swapping is 6 , 8\n",
      "140706280412104\n",
      "140706280412168\n"
     ]
    }
   ],
   "source": [
    "def swap(a,b):\n",
    "    a=a+b\n",
    "    b=a-b\n",
    "    a=a-b\n",
    "    print(id(a))\n",
    "    return a,b\n",
    "a = int(input(\"a = \"))\n",
    "b=int(input(\"b = \"))\n",
    "print(id(a))\n",
    "a,b = swap(a,b)\n",
    "print(\"The value of a and b after swapping is\", a, \",\", b)\n",
    "print(id(a))\n",
    "print(id(b))"
   ]
  },
  {
   "cell_type": "code",
   "execution_count": 9,
   "id": "4062404e",
   "metadata": {},
   "outputs": [
    {
     "name": "stdout",
     "output_type": "stream",
     "text": [
      "10\n",
      "10\n",
      "100\n"
     ]
    }
   ],
   "source": [
    "def add(a,b,c,d=40):\n",
    "    s=a+b+c+d\n",
    "    print(s)\n",
    "a=int(input())\n",
    "b=int(input())\n",
    "add(a,b,c=40)"
   ]
  },
  {
   "cell_type": "code",
   "execution_count": 48,
   "id": "6f72cbae",
   "metadata": {},
   "outputs": [
    {
     "name": "stdout",
     "output_type": "stream",
     "text": [
      "Enter the Roll No. of student :256\n",
      "Enter Marks of English :45\n",
      "Enter Marks of Maths :50\n",
      "Enter Marks of Science :80\n",
      "Roll No. =  256\n",
      "Total Marks =  270\n",
      "Average Marks =  67.5\n",
      "Pass\n",
      "Total =  270\n"
     ]
    }
   ],
   "source": [
    "def marks(R_No, English, Maths, Science, Punjabi=95):\n",
    "    Total= English + Maths + Science+Punjabi\n",
    "    Avg=Total/4\n",
    "    print(\"Total Marks = \", Total)\n",
    "    print(\"Average Marks = \", Avg)\n",
    "    if Avg>=33:\n",
    "        print(\"Pass\")\n",
    "    else:\n",
    "        print(\"Fail\")\n",
    "    return Total\n",
    "R_No=int(input(\"Enter the Roll No. of student :\" ))        \n",
    "English=int(input(\"Enter Marks of English :\"))    \n",
    "Maths=int(input(\"Enter Marks of Maths :\"))    \n",
    "Science=int(input(\"Enter Marks of Science :\"))\n",
    "print(\"Roll No. = \", R_No)\n",
    "print(\"Total = \", marks(R_No, English, Maths, Science))\n"
   ]
  },
  {
   "cell_type": "code",
   "execution_count": 60,
   "id": "ea87c971",
   "metadata": {},
   "outputs": [
    {
     "data": {
      "text/plain": [
       "60.0"
      ]
     },
     "execution_count": 60,
     "metadata": {},
     "output_type": "execute_result"
    }
   ],
   "source": [
    "#VARIABLE LENGTH ARGUMENTS\n",
    "def percentage(*args):\n",
    "    sum=0\n",
    "    for i in args:\n",
    "        sum+=i\n",
    "        avg=sum/len(args)\n",
    "    return avg\n",
    "percentage(50,60,70)"
   ]
  },
  {
   "cell_type": "code",
   "execution_count": 7,
   "id": "c156bc76",
   "metadata": {},
   "outputs": [
    {
     "name": "stdout",
     "output_type": "stream",
     "text": [
      "5\n"
     ]
    },
    {
     "data": {
      "text/plain": [
       "15"
      ]
     },
     "execution_count": 7,
     "metadata": {},
     "output_type": "execute_result"
    }
   ],
   "source": [
    "def count(n):\n",
    "    if n>0:\n",
    "        return n + count(n-1)\n",
    "    return 0\n",
    "n=int(input())\n",
    "count(n)"
   ]
  },
  {
   "cell_type": "code",
   "execution_count": 4,
   "id": "ecc24994",
   "metadata": {},
   "outputs": [
    {
     "name": "stdout",
     "output_type": "stream",
     "text": [
      "6\n"
     ]
    },
    {
     "data": {
      "text/plain": [
       "720"
      ]
     },
     "execution_count": 4,
     "metadata": {},
     "output_type": "execute_result"
    }
   ],
   "source": [
    "def count(n):\n",
    "    if n>0:\n",
    "        return n*count(n-1)\n",
    "    return 1\n",
    "n=int(input())\n",
    "count(n)"
   ]
  },
  {
   "cell_type": "code",
   "execution_count": 8,
   "id": "a3ef09e5",
   "metadata": {},
   "outputs": [
    {
     "name": "stdout",
     "output_type": "stream",
     "text": [
      "11\n",
      "150\n"
     ]
    }
   ],
   "source": [
    "x = lambda a,b:a+b\n",
    "print(x(5,6))\n",
    "x = lambda a,b,c:a*b*c\n",
    "print(x(5,6,5))"
   ]
  },
  {
   "cell_type": "code",
   "execution_count": 10,
   "id": "98339436",
   "metadata": {},
   "outputs": [
    {
     "name": "stdout",
     "output_type": "stream",
     "text": [
      "Python\n",
      "Data Science\n"
     ]
    },
    {
     "ename": "NameError",
     "evalue": "name 'local' is not defined",
     "output_type": "error",
     "traceback": [
      "\u001b[1;31m---------------------------------------------------------------------------\u001b[0m",
      "\u001b[1;31mNameError\u001b[0m                                 Traceback (most recent call last)",
      "Cell \u001b[1;32mIn[10], line 7\u001b[0m\n\u001b[0;32m      5\u001b[0m vartest()\n\u001b[0;32m      6\u001b[0m \u001b[38;5;28mprint\u001b[39m(globalvariable)\n\u001b[1;32m----> 7\u001b[0m \u001b[38;5;28mprint\u001b[39m(local)\n",
      "\u001b[1;31mNameError\u001b[0m: name 'local' is not defined"
     ]
    }
   ],
   "source": [
    "globalvariable=\"Data Science\"\n",
    "def vartest():\n",
    "    local=\"Python\"\n",
    "    print(local)\n",
    "vartest()\n",
    "print(globalvariable)\n",
    "print(local)"
   ]
  },
  {
   "cell_type": "code",
   "execution_count": 3,
   "id": "bf358c7b",
   "metadata": {},
   "outputs": [
    {
     "name": "stdout",
     "output_type": "stream",
     "text": [
      "5\n",
      "3\n"
     ]
    }
   ],
   "source": [
    "n=int(input())\n",
    "a=1\n",
    "b=0\n",
    "c=-1\n",
    "for i in range(n):\n",
    "    c=a+b\n",
    "    a=b\n",
    "    b=c\n",
    "print(a)"
   ]
  },
  {
   "cell_type": "code",
   "execution_count": 6,
   "id": "56e61125",
   "metadata": {},
   "outputs": [
    {
     "name": "stdout",
     "output_type": "stream",
     "text": [
      "[10, 20, 30, 40]\n",
      "[10, 20, 30, 40]\n"
     ]
    }
   ],
   "source": [
    "a=[10,20]\n",
    "b=a\n",
    "b.extend([30,40])\n",
    "print(a)\n",
    "print(b)"
   ]
  },
  {
   "cell_type": "code",
   "execution_count": 17,
   "id": "c4e78a83",
   "metadata": {},
   "outputs": [
    {
     "name": "stdout",
     "output_type": "stream",
     "text": [
      "[9, 7, 5, 3, 1, 'Hello']\n"
     ]
    }
   ],
   "source": [
    "l1=['Hello', 1,3,5,7,9]\n",
    "l1=l1[::-1]\n",
    "print(l1)"
   ]
  },
  {
   "cell_type": "code",
   "execution_count": 58,
   "id": "f975526d",
   "metadata": {},
   "outputs": [
    {
     "name": "stdout",
     "output_type": "stream",
     "text": [
      "['HelloDear', 'HelloSir', 'HiDear', 'HiSir']\n"
     ]
    }
   ],
   "source": [
    "l1=[\"Hello\", \"Hi\"]\n",
    "l2=[\"Dear\", \"Sir\"]\n",
    "g=[x+y for x in l1 for y in l2] #list comprehension\n",
    "print(g)\n",
    "\n",
    "\n"
   ]
  },
  {
   "cell_type": "code",
   "execution_count": 67,
   "id": "b4fa9825",
   "metadata": {},
   "outputs": [
    {
     "name": "stdout",
     "output_type": "stream",
     "text": [
      "['HelloDear']\n",
      "['HelloDear', 'HiSir']\n"
     ]
    },
    {
     "ename": "IndexError",
     "evalue": "list index out of range",
     "output_type": "error",
     "traceback": [
      "\u001b[1;31m---------------------------------------------------------------------------\u001b[0m",
      "\u001b[1;31mIndexError\u001b[0m                                Traceback (most recent call last)",
      "Cell \u001b[1;32mIn[67], line 5\u001b[0m\n\u001b[0;32m      3\u001b[0m \u001b[38;5;28;01mfor\u001b[39;00m i \u001b[38;5;129;01min\u001b[39;00m \u001b[38;5;28mrange\u001b[39m (\u001b[38;5;241m1\u001b[39m, \u001b[38;5;28mlen\u001b[39m(l1)\u001b[38;5;241m+\u001b[39m\u001b[38;5;241m1\u001b[39m):\n\u001b[0;32m      4\u001b[0m    \u001b[38;5;28;01mwhile\u001b[39;00m i\u001b[38;5;241m<\u001b[39m\u001b[38;5;241m=\u001b[39m\u001b[38;5;28mlen\u001b[39m(l1):\n\u001b[1;32m----> 5\u001b[0m     l3\u001b[38;5;241m.\u001b[39mappend(l1[s] \u001b[38;5;241m+\u001b[39ml2[s])\n\u001b[0;32m      6\u001b[0m     s\u001b[38;5;241m=\u001b[39ms\u001b[38;5;241m+\u001b[39m\u001b[38;5;241m1\u001b[39m\n\u001b[0;32m      7\u001b[0m     \u001b[38;5;28mprint\u001b[39m(l3)\n",
      "\u001b[1;31mIndexError\u001b[0m: list index out of range"
     ]
    }
   ],
   "source": [
    "l3=[]\n",
    "s=0\n",
    "for i in range (1, len(l1)+1):\n",
    "   while i<=len(l1):\n",
    "    l3.append(l1[s] +l2[s])\n",
    "    s=s+1\n",
    "    print(l3)"
   ]
  },
  {
   "cell_type": "code",
   "execution_count": 60,
   "id": "a0e46f0d",
   "metadata": {},
   "outputs": [
    {
     "name": "stdout",
     "output_type": "stream",
     "text": [
      "['HelloDear', 'HiSir']\n"
     ]
    }
   ],
   "source": [
    "h=[a[0]+b[0],a[1]+b[1]]\n",
    "print(h)\n"
   ]
  },
  {
   "cell_type": "code",
   "execution_count": null,
   "id": "92c72b48",
   "metadata": {},
   "outputs": [],
   "source": []
  }
 ],
 "metadata": {
  "kernelspec": {
   "display_name": "Python 3 (ipykernel)",
   "language": "python",
   "name": "python3"
  },
  "language_info": {
   "codemirror_mode": {
    "name": "ipython",
    "version": 3
   },
   "file_extension": ".py",
   "mimetype": "text/x-python",
   "name": "python",
   "nbconvert_exporter": "python",
   "pygments_lexer": "ipython3",
   "version": "3.11.4"
  }
 },
 "nbformat": 4,
 "nbformat_minor": 5
}
