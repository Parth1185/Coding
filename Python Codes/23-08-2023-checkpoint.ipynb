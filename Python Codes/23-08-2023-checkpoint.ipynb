{
 "cells": [
  {
   "cell_type": "code",
   "execution_count": 1,
   "id": "b5d219e7",
   "metadata": {},
   "outputs": [
    {
     "data": {
      "text/plain": [
       "3"
      ]
     },
     "execution_count": 1,
     "metadata": {},
     "output_type": "execute_result"
    }
   ],
   "source": [
    "3"
   ]
  },
  {
   "cell_type": "code",
   "execution_count": 2,
   "id": "b0513275",
   "metadata": {},
   "outputs": [
    {
     "data": {
      "text/plain": [
       "0"
      ]
     },
     "execution_count": 2,
     "metadata": {},
     "output_type": "execute_result"
    }
   ],
   "source": [
    "3+5-8"
   ]
  },
  {
   "cell_type": "code",
   "execution_count": 3,
   "id": "e763b82a",
   "metadata": {},
   "outputs": [
    {
     "data": {
      "text/plain": [
       "3.0"
      ]
     },
     "execution_count": 3,
     "metadata": {},
     "output_type": "execute_result"
    }
   ],
   "source": [
    "a=6\n",
    "a/2"
   ]
  },
  {
   "cell_type": "code",
   "execution_count": 3,
   "id": "cc1abb2e",
   "metadata": {},
   "outputs": [
    {
     "name": "stdout",
     "output_type": "stream",
     "text": [
      "Hello World\n"
     ]
    }
   ],
   "source": [
    "print(\"Hello World\")"
   ]
  },
  {
   "cell_type": "code",
   "execution_count": 4,
   "id": "20633eaf",
   "metadata": {},
   "outputs": [
    {
     "name": "stdout",
     "output_type": "stream",
     "text": [
      "Hello World!\n"
     ]
    }
   ],
   "source": [
    "print(\"Hello World!\")"
   ]
  },
  {
   "cell_type": "code",
   "execution_count": 9,
   "id": "a581419b",
   "metadata": {},
   "outputs": [
    {
     "name": "stdout",
     "output_type": "stream",
     "text": [
      "Suppose two swallows \"carry\" it together\n"
     ]
    }
   ],
   "source": [
    "print(\"Suppose two swallows \\\"carry\\\" it together\")"
   ]
  },
  {
   "cell_type": "code",
   "execution_count": 16,
   "id": "e26b1b14",
   "metadata": {},
   "outputs": [
    {
     "name": "stdout",
     "output_type": "stream",
     "text": [
      "African or 'Europian' Swallows?\n"
     ]
    }
   ],
   "source": [
    "print(\"African or 'Europian' Swallows?\")"
   ]
  },
  {
   "cell_type": "code",
   "execution_count": 23,
   "id": "4904512f",
   "metadata": {},
   "outputs": [
    {
     "name": "stdout",
     "output_type": "stream",
     "text": [
      "5\n"
     ]
    }
   ],
   "source": [
    "x=5\n",
    "print (x)"
   ]
  },
  {
   "cell_type": "code",
   "execution_count": 38,
   "id": "b532da9a",
   "metadata": {},
   "outputs": [
    {
     "name": "stdout",
     "output_type": "stream",
     "text": [
      "50 50 50\n"
     ]
    }
   ],
   "source": [
    "x=y=z=50\n",
    "print(x,y,z)"
   ]
  },
  {
   "cell_type": "code",
   "execution_count": 11,
   "id": "7425b143",
   "metadata": {},
   "outputs": [
    {
     "name": "stdout",
     "output_type": "stream",
     "text": [
      "5 10 15 30\n"
     ]
    }
   ],
   "source": [
    "a,b,c=5,10,15\n",
    "print(a,b,c, a+b+c)"
   ]
  },
  {
   "cell_type": "code",
   "execution_count": 44,
   "id": "6edfe88d",
   "metadata": {},
   "outputs": [
    {
     "name": "stdout",
     "output_type": "stream",
     "text": [
      "x 5\n"
     ]
    }
   ],
   "source": [
    "x=5\n",
    "print(\"x\",x)"
   ]
  },
  {
   "cell_type": "code",
   "execution_count": 58,
   "id": "fc32b1c6",
   "metadata": {
    "scrolled": false
   },
   "outputs": [
    {
     "name": "stdout",
     "output_type": "stream",
     "text": [
      "<class 'str'>\n",
      "<class 'int'>\n",
      "<class 'float'>\n",
      "<class 'float'>\n"
     ]
    }
   ],
   "source": [
    "a = \"Apple\"\n",
    "b = 5e1\n",
    "c = 55.59\n",
    "d=-5.59\n",
    "print(type(a))\n",
    "print(type(x))\n",
    "print(type(c))\n",
    "print(type(d))\n"
   ]
  },
  {
   "cell_type": "code",
   "execution_count": null,
   "id": "9159c13d",
   "metadata": {},
   "outputs": [],
   "source": []
  },
  {
   "cell_type": "code",
   "execution_count": 1,
   "id": "96d50fe0",
   "metadata": {},
   "outputs": [
    {
     "name": "stdout",
     "output_type": "stream",
     "text": [
      "5\n",
      "11111\n",
      "0000\n",
      "111\n",
      "00\n",
      "1\n"
     ]
    }
   ],
   "source": [
    "n=int(input())\n",
    "for i in range(1,n+1):\n",
    "    for k in range(1,n-i+2):\n",
    "        if i %2!=0:\n",
    "            print(1,end=\"\")\n",
    "        else:\n",
    "            print(0,end=\"\")\n",
    "    print()"
   ]
  },
  {
   "cell_type": "code",
   "execution_count": 8,
   "id": "514a7ed4",
   "metadata": {},
   "outputs": [
    {
     "name": "stdout",
     "output_type": "stream",
     "text": [
      "3\n",
      "33333\n",
      "32223\n",
      "32123\n",
      "32223\n",
      "33333\n"
     ]
    }
   ],
   "source": [
    "MAX = 100\n",
    "\n",
    "\n",
    "def prints(a, size):\n",
    "    for i in range(size):\n",
    "        for j in range(size):\n",
    "            print(a[i][j], end='')\n",
    "        print()\n",
    "\n",
    "\n",
    "def innerPattern(n):\n",
    "\n",
    "    size = 2 * n - 1\n",
    "    front = 0\n",
    "    back = size - 1\n",
    "    a = [[0 for i in range(MAX)]\n",
    "         for i in range(MAX)]\n",
    "    while (n != 0):\n",
    "        for i in range(front, back + 1):\n",
    "            for j in range(front, back + 1):\n",
    "                if (i == front or i == back or\n",
    "                        j == front or j == back):\n",
    "                    a[i][j] = n\n",
    "        front += 1\n",
    "        back -= 1\n",
    "        n -= 1\n",
    "    prints(a, size)\n",
    "\n",
    "\n",
    "n = int(input())\n",
    "innerPattern(n)"
   ]
  },
  {
   "cell_type": "code",
   "execution_count": 42,
   "id": "a3de064d",
   "metadata": {},
   "outputs": [
    {
     "name": "stdout",
     "output_type": "stream",
     "text": [
      "5\n",
      "12345\n",
      " 2345\n",
      "  345\n",
      "   45\n",
      "    5\n",
      "   45\n",
      "  345\n",
      " 2345\n",
      "12345\n"
     ]
    }
   ],
   "source": [
    "num = int(input())\n",
    "i = 0\n",
    "while num > i:\n",
    "    spaces = 1\n",
    "    while spaces <= i:\n",
    "        print(\" \", end=\"\")\n",
    "        spaces = spaces+1\n",
    "    j = 1\n",
    "    while num-i >= j:\n",
    "        print(j+i, end=\"\")\n",
    "        j = j+1\n",
    "    i = i+1\n",
    "    print()\n",
    "while i > 1:\n",
    "    spaces = 1\n",
    "    while spaces <= i-2:\n",
    "        print(\" \", end=\"\")\n",
    "        spaces = spaces+1\n",
    "    j = num\n",
    "    k = 1\n",
    "    while j >= i-1:\n",
    "        print(i+k-2, end=\"\")\n",
    "        j = j-1\n",
    "        k = k+1\n",
    "\n",
    "    i = i-1\n",
    "    print()"
   ]
  },
  {
   "cell_type": "code",
   "execution_count": 36,
   "id": "ede62ea6",
   "metadata": {},
   "outputs": [
    {
     "name": "stdout",
     "output_type": "stream",
     "text": [
      "5\n",
      "1        1\n",
      "12      21\n",
      "123    321\n",
      "1234  4321\n",
      "1234554321\n"
     ]
    }
   ],
   "source": [
    "n = int(input())\n",
    "for i in range(1,n+1):\n",
    "    for j in range(1,i+1):\n",
    "        print(j,end='')\n",
    "    for j in range(0,2*n-2*i):\n",
    "        print(\" \",end='')\n",
    "    for j in range(i,0,-1):\n",
    "        print(j,end='')\n",
    "    print('')"
   ]
  },
  {
   "cell_type": "code",
   "execution_count": 2,
   "id": "ea414f6c",
   "metadata": {},
   "outputs": [
    {
     "name": "stdout",
     "output_type": "stream",
     "text": [
      "8\n",
      "36\n"
     ]
    }
   ],
   "source": [
    "n = int(input())\n",
    "i = 1\n",
    "sum = 0\n",
    "while (i <= n):\n",
    "    sum = sum + i\n",
    "    i = i + 1\n",
    "if n % 2 == 0:\n",
    "    print(sum)"
   ]
  },
  {
   "cell_type": "code",
   "execution_count": null,
   "id": "a90e5830",
   "metadata": {},
   "outputs": [],
   "source": []
  }
 ],
 "metadata": {
  "kernelspec": {
   "display_name": "Python 3 (ipykernel)",
   "language": "python",
   "name": "python3"
  },
  "language_info": {
   "codemirror_mode": {
    "name": "ipython",
    "version": 3
   },
   "file_extension": ".py",
   "mimetype": "text/x-python",
   "name": "python",
   "nbconvert_exporter": "python",
   "pygments_lexer": "ipython3",
   "version": "3.11.4"
  }
 },
 "nbformat": 4,
 "nbformat_minor": 5
}
