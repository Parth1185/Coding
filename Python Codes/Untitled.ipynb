{
 "cells": [
  {
   "cell_type": "code",
   "execution_count": 58,
   "id": "9c943237",
   "metadata": {},
   "outputs": [
    {
     "name": "stdout",
     "output_type": "stream",
     "text": [
      "5\n",
      "     \n",
      "1      \n",
      "1 2      \n",
      "1 2 3      \n",
      "1 2 3 4      \n",
      "1 2 3 4 5      \n"
     ]
    }
   ],
   "source": [
    "n=int(input())\n",
    "for i in range(n+1):\n",
    "    for j in range(1,i+1):\n",
    "        print(j, end=\" \")\n",
    "    print(  \"     \"  )"
   ]
  },
  {
   "cell_type": "code",
   "execution_count": 15,
   "id": "86fda86b",
   "metadata": {},
   "outputs": [
    {
     "data": {
      "text/plain": [
       "120"
      ]
     },
     "execution_count": 15,
     "metadata": {},
     "output_type": "execute_result"
    }
   ],
   "source": [
    "def fact(n):\n",
    "    if n==1:\n",
    "        return 1\n",
    "    else:\n",
    "        return n * fact(n-1)\n",
    "fact(5)"
   ]
  },
  {
   "cell_type": "code",
   "execution_count": 2,
   "id": "44696c79",
   "metadata": {},
   "outputs": [],
   "source": [
    "#Arrays\n"
   ]
  },
  {
   "cell_type": "code",
   "execution_count": 35,
   "id": "448c129a",
   "metadata": {},
   "outputs": [
    {
     "name": "stdout",
     "output_type": "stream",
     "text": [
      "[[10, 20, 30], [40, 50, 60], [70, 80, 90]]\n",
      "[[40, 50, 60], [70, 80, 90], [100, 110, 120]]\n",
      "[[10, 20, 30], [40, 50, 60], [70, 80, 90], [40, 50, 60], [70, 80, 90], [100, 110, 120]]\n"
     ]
    }
   ],
   "source": [
    "M1=[[10,20,30],[40,50,60],[70,80,90]]\n",
    "M2=[[40,50,60], [70,80,90],[100,110,120]]\n",
    "print(M1)\n",
    "print(M2)\n",
    "print(M1+M2)"
   ]
  },
  {
   "cell_type": "code",
   "execution_count": 27,
   "id": "05b2dff3",
   "metadata": {},
   "outputs": [
    {
     "name": "stdout",
     "output_type": "stream",
     "text": [
      "50 70 90 \n",
      "110 130 150 \n",
      "170 190 210 \n"
     ]
    }
   ],
   "source": [
    "for i in range(3):\n",
    "    for j in range(3):\n",
    "        print(M1[i][j] + M2[i][j], end = \" \")\n",
    "    print()"
   ]
  },
  {
   "cell_type": "code",
   "execution_count": 28,
   "id": "e88a0e14",
   "metadata": {},
   "outputs": [
    {
     "name": "stdout",
     "output_type": "stream",
     "text": [
      "50 90 130 \n",
      "90 130 170 \n",
      "130 170 210 \n"
     ]
    }
   ],
   "source": [
    "for i in range(3):\n",
    "    for j in range(3):\n",
    "        print(M1[i][j] + M2[j][i], end = \" \")\n",
    "    print()"
   ]
  },
  {
   "cell_type": "code",
   "execution_count": 31,
   "id": "5cef10af",
   "metadata": {},
   "outputs": [
    {
     "name": "stdout",
     "output_type": "stream",
     "text": [
      "400 1000 1800 \n",
      "2800 4000 5400 \n",
      "7000 8800 10800 \n"
     ]
    }
   ],
   "source": [
    "for i in range(3):\n",
    "    for j in range(3):\n",
    "        print(M1[i][j] * M2[i][j], end = \" \")\n",
    "    print()"
   ]
  },
  {
   "cell_type": "code",
   "execution_count": 53,
   "id": "44b59886",
   "metadata": {},
   "outputs": [
    {
     "name": "stdout",
     "output_type": "stream",
     "text": [
      "10 20 30 \n",
      "40 50 60 \n",
      "70 80 90 \n"
     ]
    }
   ],
   "source": [
    "for i in range(3):\n",
    "    for j in range(3):\n",
    "        print( M1[i][j], end= \" \")\n",
    "    print()"
   ]
  },
  {
   "cell_type": "code",
   "execution_count": 1,
   "id": "158cf900",
   "metadata": {},
   "outputs": [
    {
     "name": "stdout",
     "output_type": "stream",
     "text": [
      "e\n"
     ]
    }
   ],
   "source": [
    "a = \"Hello, World!\"\n",
    "print(a[1])"
   ]
  },
  {
   "cell_type": "code",
   "execution_count": 1,
   "id": "db7fa529",
   "metadata": {},
   "outputs": [
    {
     "name": "stdout",
     "output_type": "stream",
     "text": [
      "5\n",
      "1 2 3 4 5\n",
      "15\n"
     ]
    }
   ],
   "source": [
    "n=int(input())\n",
    "li=[int(x) for x in input().split()]\n",
    "sum=0\n",
    "for i in range(n):\n",
    "    sum=sum+li[i]\n",
    "print(sum)"
   ]
  },
  {
   "cell_type": "code",
   "execution_count": null,
   "id": "11afc042",
   "metadata": {},
   "outputs": [],
   "source": [
    "f="
   ]
  },
  {
   "cell_type": "code",
   "execution_count": null,
   "id": "ef627e64",
   "metadata": {},
   "outputs": [],
   "source": []
  }
 ],
 "metadata": {
  "kernelspec": {
   "display_name": "Python 3 (ipykernel)",
   "language": "python",
   "name": "python3"
  },
  "language_info": {
   "codemirror_mode": {
    "name": "ipython",
    "version": 3
   },
   "file_extension": ".py",
   "mimetype": "text/x-python",
   "name": "python",
   "nbconvert_exporter": "python",
   "pygments_lexer": "ipython3",
   "version": "3.11.4"
  }
 },
 "nbformat": 4,
 "nbformat_minor": 5
}
