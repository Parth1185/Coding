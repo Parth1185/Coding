{
 "cells": [
  {
   "cell_type": "code",
   "execution_count": 25,
   "id": "6da6af56",
   "metadata": {},
   "outputs": [
    {
     "name": "stdout",
     "output_type": "stream",
     "text": [
      "5\n"
     ]
    }
   ],
   "source": [
    "a=10\n",
    "id1 = id(a)\n",
    "b=10+2-2\n",
    "id2 = id(b)\n",
    "if id1==id2 :\n",
    " print (\"5\") \n",
    "else:\n",
    " print(6)"
   ]
  },
  {
   "cell_type": "code",
   "execution_count": 29,
   "id": "e8cea5ef",
   "metadata": {},
   "outputs": [
    {
     "name": "stdout",
     "output_type": "stream",
     "text": [
      "140729197695912\n",
      "140729197695944\n"
     ]
    }
   ],
   "source": [
    "a=5\n",
    "b=6\n",
    "print(id(a))\n",
    "\n",
    "print(id(b))"
   ]
  },
  {
   "cell_type": "code",
   "execution_count": 13,
   "id": "acae6362",
   "metadata": {},
   "outputs": [
    {
     "name": "stdout",
     "output_type": "stream",
     "text": [
      "{'name': 'Kartik', 'age': 18, 'height': 60, 'city': 'Mumbai'}\n",
      "Kartik\n",
      "18\n",
      "dict_keys(['name', 'age', 'height', 'city'])\n",
      "dict_values(['Kartik', 18, 60, 'Mumbai'])\n",
      "dict_items([('name', 'Kartik'), ('age', 18), ('height', 60), ('city', 'Mumbai')])\n",
      "<class 'dict_keys'>\n",
      "<class 'dict_values'>\n",
      "<class 'dict_items'>\n"
     ]
    }
   ],
   "source": [
    "info={'name':\"Kartik\", 'age':18, 'height': 60, 'city':'Mumbai'}\n",
    "print(info)\n",
    "print(info['name'])\n",
    "print(info.get('age'))\n",
    "print(info.keys())\n",
    "print(info.values())\n",
    "print(info.items())\n",
    "print(type(info.keys()))\n",
    "print(type(info.values()))\n",
    "print(type(info.items()))"
   ]
  },
  {
   "cell_type": "code",
   "execution_count": 25,
   "id": "c6322f21",
   "metadata": {},
   "outputs": [
    {
     "name": "stdout",
     "output_type": "stream",
     "text": [
      "10\n"
     ]
    },
    {
     "data": {
      "text/plain": [
       "7"
      ]
     },
     "execution_count": 25,
     "metadata": {},
     "output_type": "execute_result"
    }
   ],
   "source": [
    "a=2\n",
    "if a==a+2:\n",
    "    print(a)\n",
    "else:\n",
    "    print(a+8)\n",
    "a+5"
   ]
  },
  {
   "cell_type": "code",
   "execution_count": null,
   "id": "27d321ff",
   "metadata": {},
   "outputs": [],
   "source": []
  },
  {
   "cell_type": "code",
   "execution_count": null,
   "id": "3a55fe45",
   "metadata": {},
   "outputs": [],
   "source": []
  },
  {
   "cell_type": "code",
   "execution_count": null,
   "id": "4fa83e59",
   "metadata": {},
   "outputs": [],
   "source": []
  },
  {
   "cell_type": "code",
   "execution_count": null,
   "id": "04236a70",
   "metadata": {},
   "outputs": [],
   "source": []
  },
  {
   "cell_type": "code",
   "execution_count": null,
   "id": "51e13abc",
   "metadata": {},
   "outputs": [],
   "source": []
  }
 ],
 "metadata": {
  "kernelspec": {
   "display_name": "Python 3 (ipykernel)",
   "language": "python",
   "name": "python3"
  },
  "language_info": {
   "codemirror_mode": {
    "name": "ipython",
    "version": 3
   },
   "file_extension": ".py",
   "mimetype": "text/x-python",
   "name": "python",
   "nbconvert_exporter": "python",
   "pygments_lexer": "ipython3",
   "version": "3.11.4"
  }
 },
 "nbformat": 4,
 "nbformat_minor": 5
}
