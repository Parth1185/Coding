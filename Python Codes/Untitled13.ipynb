{
 "cells": [
  {
   "cell_type": "code",
   "execution_count": 1,
   "id": "0b134820",
   "metadata": {},
   "outputs": [
    {
     "name": "stdout",
     "output_type": "stream",
     "text": [
      "4\n",
      "ABCD\n",
      "BCDE\n",
      "CDEF\n",
      "DEFG\n"
     ]
    }
   ],
   "source": [
    "n=int(input())\n",
    "i=1\n",
    "while i<=n:\n",
    "    j=1\n",
    "    start_char=chr(ord('A')+i-1)\n",
    "    while j<=n:\n",
    "        charP=chr(ord(start_char)+j-1)\n",
    "        print(charP, end='')\n",
    "        j=j+1\n",
    "    print()\n",
    "    i=i+1"
   ]
  },
  {
   "cell_type": "code",
   "execution_count": null,
   "id": "a414e5ff",
   "metadata": {},
   "outputs": [],
   "source": [
    "n = int(input())\n",
    "i=1\n",
    "while i<=n:\n",
    "    k = ord(\"A\")+i\n",
    "while j<=i:\n",
    "    print(chr(k), end=\"\")\n",
    "        k =k+ 1\n",
    "        print()   "
   ]
  },
  {
   "cell_type": "code",
   "execution_count": null,
   "id": "c0452872",
   "metadata": {},
   "outputs": [],
   "source": []
  },
  {
   "cell_type": "code",
   "execution_count": null,
   "id": "1bcbb81e",
   "metadata": {},
   "outputs": [],
   "source": []
  },
  {
   "cell_type": "code",
   "execution_count": null,
   "id": "1e0d0183",
   "metadata": {},
   "outputs": [],
   "source": []
  },
  {
   "cell_type": "code",
   "execution_count": null,
   "id": "076e25b3",
   "metadata": {},
   "outputs": [],
   "source": []
  },
  {
   "cell_type": "code",
   "execution_count": null,
   "id": "772afcfb",
   "metadata": {},
   "outputs": [],
   "source": [
    "n=int(input())\n",
    "i=1\n",
    "while i<=n:\n",
    "    j=1\n",
    "    while j<=n:\n",
    "        charP=chr(ord('A')+j-1)\n",
    "        print(charP, end='')\n",
    "        j=j+1\n",
    "    print()\n",
    "    i=i+1"
   ]
  },
  {
   "cell_type": "code",
   "execution_count": null,
   "id": "dc8e623a",
   "metadata": {},
   "outputs": [],
   "source": [
    "n=int(input())\n",
    "i=1\n",
    "p=1\n",
    "while i<=n:\n",
    "    j=1\n",
    "    while j<=i:\n",
    "        print(i, end=\"\")\n",
    "        p=p+1\n",
    "        j=j+1\n",
    "    print()\n",
    "    i=i+1"
   ]
  },
  {
   "cell_type": "code",
   "execution_count": null,
   "id": "e29464e8",
   "metadata": {},
   "outputs": [],
   "source": [
    "k=int(input())\n",
    "x= ord('A')\n",
    "asciiTarget=x+k-1\n",
    "targetChar=chr(asciiTarget)\n",
    "targetChar"
   ]
  },
  {
   "cell_type": "code",
   "execution_count": null,
   "id": "7dba1a45",
   "metadata": {},
   "outputs": [],
   "source": [
    "i = int(input())\n",
    "x=i\n",
    "rev=0\n",
    "while i>0:\n",
    "    rev=rev*10+i%10\n",
    "    i=i//10\n",
    "x==rev"
   ]
  }
 ],
 "metadata": {
  "kernelspec": {
   "display_name": "Python 3 (ipykernel)",
   "language": "python",
   "name": "python3"
  },
  "language_info": {
   "codemirror_mode": {
    "name": "ipython",
    "version": 3
   },
   "file_extension": ".py",
   "mimetype": "text/x-python",
   "name": "python",
   "nbconvert_exporter": "python",
   "pygments_lexer": "ipython3",
   "version": "3.11.4"
  }
 },
 "nbformat": 4,
 "nbformat_minor": 5
}
