{
 "cells": [
  {
   "cell_type": "code",
   "execution_count": 5,
   "id": "f6c3e471",
   "metadata": {},
   "outputs": [
    {
     "name": "stdout",
     "output_type": "stream",
     "text": [
      "5\n",
      "      *\n",
      "     * *\n",
      "    * * *\n",
      "   * * * *\n",
      "  * * * * *\n",
      "   * * * *\n",
      "    * * *\n",
      "     * *\n",
      "      *\n"
     ]
    }
   ],
   "source": [
    "n=int(input())\n",
    "for i in range(n):\n",
    "    print(\" \"*(n-i)+\" *\"*(i+1))\n",
    "    \n",
    "for j in range(n-1):\n",
    "    print(\" \"*(j+2)+\" *\"*(n-1-j))\n"
   ]
  },
  {
   "cell_type": "code",
   "execution_count": 1,
   "id": "0f19a15e",
   "metadata": {},
   "outputs": [],
   "source": [
    "Fruits={\"Apple\":\"Seb\", \"Banana\":\"Kela\",\"Grapes\":\"Angoor\",\"Pomengranate\":\"Anaar\", \"Orange\":\"Santra\"}\n"
   ]
  },
  {
   "cell_type": "code",
   "execution_count": 7,
   "id": "6bcda39a",
   "metadata": {},
   "outputs": [
    {
     "name": "stdout",
     "output_type": "stream",
     "text": [
      "Enter name of fruit in english :Orange\n",
      "Orange  in hindi means  Santra\n"
     ]
    }
   ],
   "source": [
    "a=input(\"Enter name of fruit in english :\")\n",
    "print(a , \" in hindi means \", Fruits.get(a))"
   ]
  },
  {
   "cell_type": "code",
   "execution_count": null,
   "id": "096bb416",
   "metadata": {},
   "outputs": [],
   "source": []
  }
 ],
 "metadata": {
  "kernelspec": {
   "display_name": "Python 3 (ipykernel)",
   "language": "python",
   "name": "python3"
  },
  "language_info": {
   "codemirror_mode": {
    "name": "ipython",
    "version": 3
   },
   "file_extension": ".py",
   "mimetype": "text/x-python",
   "name": "python",
   "nbconvert_exporter": "python",
   "pygments_lexer": "ipython3",
   "version": "3.11.4"
  }
 },
 "nbformat": 4,
 "nbformat_minor": 5
}
