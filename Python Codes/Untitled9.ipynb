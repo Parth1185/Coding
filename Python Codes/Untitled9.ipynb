{
 "cells": [
  {
   "cell_type": "code",
   "execution_count": 1,
   "id": "70cb6fb6",
   "metadata": {
    "scrolled": false
   },
   "outputs": [
    {
     "name": "stdout",
     "output_type": "stream",
     "text": [
      "5\n"
     ]
    }
   ],
   "source": [
    "n = int(input())\n",
    "count = 2\n",
    "s = 0\n",
    "while count <= n:\n",
    "    s = count + 1\n",
    "    count = count + 1\n",
    "    if n % 2 == 0:\n",
    "       print(s)"
   ]
  },
  {
   "cell_type": "code",
   "execution_count": 2,
   "id": "71caee4d",
   "metadata": {},
   "outputs": [
    {
     "name": "stdout",
     "output_type": "stream",
     "text": [
      "6\n",
      "12\n"
     ]
    }
   ],
   "source": [
    "number = int(input())\n",
    "count = 2\n",
    "Sum = 0\n",
    "while count <= number:\n",
    "      Sum = count + Sum\n",
    "      count = count + 2\n",
    "print(Sum)"
   ]
  },
  {
   "cell_type": "code",
   "execution_count": 3,
   "id": "e68df740",
   "metadata": {},
   "outputs": [
    {
     "name": "stdout",
     "output_type": "stream",
     "text": [
      "8\n",
      "n is prime\n"
     ]
    }
   ],
   "source": [
    "n = int(input())\n",
    "d=2\n",
    "Flag=False\n",
    "while d<n:\n",
    "    if n%d==0:\n",
    "        flag = True\n",
    "    d=d+1\n",
    "if flag:\n",
    "    print (\"n is prime\")\n",
    "else:\n",
    "    print(\"n is not prime\")"
   ]
  },
  {
   "cell_type": "code",
   "execution_count": 4,
   "id": "76872508",
   "metadata": {},
   "outputs": [
    {
     "name": "stdout",
     "output_type": "stream",
     "text": [
      "[1, 3, 5, 7, 9, 11] 6\n"
     ]
    }
   ],
   "source": [
    "li=[1,3,5,7,9,11]\n",
    "print(li, len(li))"
   ]
  },
  {
   "cell_type": "code",
   "execution_count": 5,
   "id": "419ec381",
   "metadata": {},
   "outputs": [
    {
     "name": "stdout",
     "output_type": "stream",
     "text": [
      "5\n",
      "9\n"
     ]
    }
   ],
   "source": [
    "for i in range (2,len (li), 2):\n",
    "    print(li[i])"
   ]
  },
  {
   "cell_type": "code",
   "execution_count": 6,
   "id": "62c648da",
   "metadata": {},
   "outputs": [
    {
     "name": "stdout",
     "output_type": "stream",
     "text": [
      "1\n",
      "3\n",
      "5\n",
      "7\n",
      "9\n",
      "11\n"
     ]
    }
   ],
   "source": [
    "for ele in li:\n",
    "    print(ele)"
   ]
  },
  {
   "cell_type": "code",
   "execution_count": 7,
   "id": "01f71ab9",
   "metadata": {},
   "outputs": [
    {
     "name": "stdout",
     "output_type": "stream",
     "text": [
      "5\n",
      "7\n",
      "9\n",
      "11\n"
     ]
    }
   ],
   "source": [
    "for ele in li[2:6]:\n",
    "    print(ele)"
   ]
  },
  {
   "cell_type": "code",
   "execution_count": 8,
   "id": "96642751",
   "metadata": {},
   "outputs": [
    {
     "name": "stdout",
     "output_type": "stream",
     "text": [
      "5\n",
      "1\n",
      "45\n",
      "8\n",
      "6\n",
      "8\n",
      "['1', '45', '8', '6', '8']\n"
     ]
    }
   ],
   "source": [
    "n = int(input())\n",
    "l2 = []\n",
    "for i in range(n):\n",
    "    l2.append(input())\n",
    "print(l2)"
   ]
  },
  {
   "cell_type": "code",
   "execution_count": 9,
   "id": "37abfd3e",
   "metadata": {},
   "outputs": [
    {
     "name": "stdout",
     "output_type": "stream",
     "text": [
      "8\n",
      "6\n",
      "8\n",
      "45\n",
      "1\n"
     ]
    }
   ],
   "source": [
    "print(l2[-1])\n",
    "print(l2[-2])\n",
    "print(l2[-3])\n",
    "print(l2[-4])\n",
    "print(l2[-5])"
   ]
  },
  {
   "cell_type": "code",
   "execution_count": 10,
   "id": "2b345ec2",
   "metadata": {},
   "outputs": [
    {
     "name": "stdout",
     "output_type": "stream",
     "text": [
      "3\n"
     ]
    }
   ],
   "source": [
    "li= [ int(x) for x in input().split()]"
   ]
  },
  {
   "cell_type": "code",
   "execution_count": 11,
   "id": "ed6e585a",
   "metadata": {},
   "outputs": [
    {
     "data": {
      "text/plain": [
       "[3]"
      ]
     },
     "execution_count": 11,
     "metadata": {},
     "output_type": "execute_result"
    }
   ],
   "source": [
    "li\n"
   ]
  },
  {
   "cell_type": "code",
   "execution_count": 12,
   "id": "00966c89",
   "metadata": {},
   "outputs": [
    {
     "name": "stdout",
     "output_type": "stream",
     "text": [
      "6\n",
      "5\n"
     ]
    },
    {
     "ename": "IndexError",
     "evalue": "list index out of range",
     "output_type": "error",
     "traceback": [
      "\u001b[1;31m---------------------------------------------------------------------------\u001b[0m",
      "\u001b[1;31mIndexError\u001b[0m                                Traceback (most recent call last)",
      "Cell \u001b[1;32mIn[12], line 3\u001b[0m\n\u001b[0;32m      1\u001b[0m n\u001b[38;5;241m=\u001b[39m\u001b[38;5;28mint\u001b[39m(\u001b[38;5;28minput\u001b[39m())\n\u001b[0;32m      2\u001b[0m li\u001b[38;5;241m=\u001b[39m[\u001b[38;5;28mint\u001b[39m(x) \u001b[38;5;28;01mfor\u001b[39;00m x \u001b[38;5;129;01min\u001b[39;00m \u001b[38;5;28minput\u001b[39m()\u001b[38;5;241m.\u001b[39msplit()]\n\u001b[1;32m----> 3\u001b[0m li[i]\n",
      "\u001b[1;31mIndexError\u001b[0m: list index out of range"
     ]
    }
   ],
   "source": [
    "n=int(input())\n",
    "li=[int(x) for x in input().split()]\n",
    "li[i]"
   ]
  },
  {
   "cell_type": "code",
   "execution_count": 1,
   "id": "d0c35146",
   "metadata": {},
   "outputs": [
    {
     "name": "stdout",
     "output_type": "stream",
     "text": [
      "A\n",
      "B\n",
      "H\n",
      "I\n",
      "S\n",
      "This is special\n",
      "H\n",
      "E\n",
      "K\n",
      " \n",
      "S\n",
      "This is special\n",
      "H\n",
      "A\n",
      "R\n",
      "M\n",
      "A\n"
     ]
    }
   ],
   "source": [
    "name=\"ABHISHEK SHARMA\"\n",
    "for i in name:\n",
    "    print (i)\n",
    "    if i==\"S\":\n",
    "    \n",
    "        print(\"This is special\")\n"
   ]
  },
  {
   "cell_type": "code",
   "execution_count": 1,
   "id": "8628a549",
   "metadata": {},
   "outputs": [
    {
     "name": "stdout",
     "output_type": "stream",
     "text": [
      "Red\n",
      "R\n",
      "e\n",
      "d\n",
      "Yellow\n",
      "Y\n",
      "e\n",
      "l\n",
      "l\n",
      "o\n",
      "w\n",
      "Green\n",
      "G\n",
      "r\n",
      "e\n",
      "e\n",
      "n\n",
      "Orange\n",
      "O\n",
      "r\n",
      "a\n",
      "n\n",
      "g\n",
      "e\n",
      "Blue\n",
      "B\n",
      "l\n",
      "u\n",
      "e\n"
     ]
    }
   ],
   "source": [
    "colours=[\"Red\", \"Yellow\", \"Green\", \"Orange\", \"Blue\"]\n",
    "for color in colours:\n",
    "    print(color)\n",
    "    for i in color:\n",
    "        print(i)"
   ]
  },
  {
   "cell_type": "code",
   "execution_count": 1,
   "id": "be9990d2",
   "metadata": {},
   "outputs": [
    {
     "name": "stdout",
     "output_type": "stream",
     "text": [
      "1\n",
      "2\n",
      "3\n",
      "4\n",
      "5\n",
      "6\n",
      "7\n",
      "8\n"
     ]
    }
   ],
   "source": [
    "for k in range (1,9):\n",
    "    print(k)"
   ]
  },
  {
   "cell_type": "code",
   "execution_count": 2,
   "id": "7e823873",
   "metadata": {},
   "outputs": [
    {
     "name": "stdout",
     "output_type": "stream",
     "text": [
      "5\n",
      "5\n",
      "4\n",
      "3\n",
      "2\n",
      "1\n"
     ]
    }
   ],
   "source": [
    "x=int(input())\n",
    "while x>0:\n",
    "    print (x)\n",
    "    x=x-1"
   ]
  },
  {
   "cell_type": "code",
   "execution_count": 5,
   "id": "c76515d7",
   "metadata": {},
   "outputs": [
    {
     "name": "stdout",
     "output_type": "stream",
     "text": [
      "52698\n",
      "89625\n"
     ]
    }
   ],
   "source": [
    "n = int(input())\n",
    "rev = 0\n",
    " \n",
    "while(n > 0):\n",
    "    a = n % 10\n",
    "    rev = rev * 10 + a\n",
    "    n = n // 10\n",
    " \n",
    "print(rev)"
   ]
  },
  {
   "cell_type": "code",
   "execution_count": 2,
   "id": "d95f3a6a",
   "metadata": {},
   "outputs": [
    {
     "name": "stdout",
     "output_type": "stream",
     "text": [
      "5\n",
      "15\n"
     ]
    }
   ],
   "source": [
    "n=int(input())\n",
    "i=0\n",
    "sum=0\n",
    "while i<=n:\n",
    "    sum=sum+i\n",
    "    i=i+1\n",
    "print(sum)"
   ]
  },
  {
   "cell_type": "code",
   "execution_count": 8,
   "id": "c7c5abb6",
   "metadata": {},
   "outputs": [
    {
     "name": "stdout",
     "output_type": "stream",
     "text": [
      "8\n",
      "prime\n"
     ]
    }
   ],
   "source": [
    "n = int(input())\n",
    "d = 2\n",
    "Flag = False\n",
    "while d < n:\n",
    "    if (n % d == 0):\n",
    "        flag = True\n",
    "    d = d + 1\n",
    "\n",
    "if Flag:\n",
    "    print(\"not prime\")\n",
    "else:\n",
    "    print(\"prime\")\n",
    "\n"
   ]
  },
  {
   "cell_type": "code",
   "execution_count": 9,
   "id": "b54f1fc2",
   "metadata": {},
   "outputs": [
    {
     "name": "stdout",
     "output_type": "stream",
     "text": [
      "[5, 6, 8]\n"
     ]
    }
   ],
   "source": [
    "li=[5,6,8]\n",
    "print(li)"
   ]
  },
  {
   "cell_type": "code",
   "execution_count": 18,
   "id": "63181b99",
   "metadata": {},
   "outputs": [
    {
     "data": {
      "text/plain": [
       "[1, 2, 3, 8]"
      ]
     },
     "execution_count": 18,
     "metadata": {},
     "output_type": "execute_result"
    }
   ],
   "source": [
    "li2=li\n",
    "li2"
   ]
  },
  {
   "cell_type": "code",
   "execution_count": 7,
   "id": "180236c3",
   "metadata": {},
   "outputs": [
    {
     "name": "stdout",
     "output_type": "stream",
     "text": [
      "[3, 2, 3, 4]\n"
     ]
    }
   ],
   "source": [
    "def inc(li):\n",
    "    li[0]=li[0]+2\n",
    "li=[1,2,3,4]\n",
    "inc(li)\n",
    "print(li)"
   ]
  },
  {
   "cell_type": "code",
   "execution_count": 11,
   "id": "73a993ea",
   "metadata": {},
   "outputs": [
    {
     "name": "stdout",
     "output_type": "stream",
     "text": [
      "[8, 7, 6, 5, 4, 3, 2, 1]\n"
     ]
    }
   ],
   "source": [
    "def r1(li):\n",
    "    l=len(li)\n",
    "    for i in range (l//2):\n",
    "        li[i],li[-i-1]=li[-i-1],li[i]\n",
    "li=[1,2,3,4,5,6,7,8]\n",
    "r1(li)\n",
    "print(li)"
   ]
  },
  {
   "cell_type": "code",
   "execution_count": 15,
   "id": "62dcb5ba",
   "metadata": {},
   "outputs": [
    {
     "data": {
      "text/plain": [
       "[0, 6]"
      ]
     },
     "execution_count": 15,
     "metadata": {},
     "output_type": "execute_result"
    }
   ],
   "source": [
    "l2=[0,2,4,6,8,10]\n",
    "l2[0:4:3]"
   ]
  },
  {
   "cell_type": "code",
   "execution_count": 16,
   "id": "b269ad72",
   "metadata": {},
   "outputs": [
    {
     "data": {
      "text/plain": [
       "[10, 8, 6, 4, 2, 0]"
      ]
     },
     "execution_count": 16,
     "metadata": {},
     "output_type": "execute_result"
    }
   ],
   "source": [
    "l2[::-1]"
   ]
  },
  {
   "cell_type": "code",
   "execution_count": 2,
   "id": "4d9db680",
   "metadata": {},
   "outputs": [
    {
     "name": "stdout",
     "output_type": "stream",
     "text": [
      "abc 21\n"
     ]
    }
   ],
   "source": [
    "class student:\n",
    "    def __init__(self,name, RollNo):\n",
    "        self.name=name\n",
    "        self.RollNo = RollNo\n",
    "    def display(self):\n",
    "        print(self.name, self.RollNo)\n",
    "s1=student(\"abc\",21)\n",
    "s1.display()"
   ]
  },
  {
   "cell_type": "code",
   "execution_count": 4,
   "id": "8959617d",
   "metadata": {},
   "outputs": [
    {
     "name": "stdout",
     "output_type": "stream",
     "text": [
      "5\n",
      "10\n"
     ]
    }
   ],
   "source": [
    "a=int(input())\n",
    "print(a*2)"
   ]
  },
  {
   "cell_type": "code",
   "execution_count": 18,
   "id": "17a9140c",
   "metadata": {},
   "outputs": [
    {
     "name": "stdout",
     "output_type": "stream",
     "text": [
      "True\n",
      "False\n",
      "False\n",
      "True\n",
      "True\n"
     ]
    }
   ],
   "source": [
    "class A():\n",
    "    pass\n",
    "class B():\n",
    "    pass\n",
    "o1=A()\n",
    "o2=B()\n",
    "print(isinstance(o1,A))\n",
    "print(isinstance(o1,B))\n",
    "print(isinstance(o2,A))\n",
    "print(isinstance(o2,B))\n",
    "print(isinstance(\"APp\", (str, int)))\n"
   ]
  },
  {
   "cell_type": "code",
   "execution_count": 29,
   "id": "567a8a0e",
   "metadata": {},
   "outputs": [
    {
     "name": "stdout",
     "output_type": "stream",
     "text": [
      "<bound method A.f1 of <__main__.A object at 0x000001645FD07490>>\n",
      "<bound method B.f1 of <__main__.B object at 0x00000164609DB450>>\n"
     ]
    }
   ],
   "source": [
    "class A:\n",
    "    def f1(self):\n",
    "        print(\"Base\")\n",
    "class B:\n",
    "    def f1(self):\n",
    "        print(\"Child\")\n",
    "o1=A()\n",
    "print(o1.f1)\n",
    "o2=B()\n",
    "print(o2.f1)"
   ]
  },
  {
   "cell_type": "code",
   "execution_count": 48,
   "id": "6b3d0603",
   "metadata": {},
   "outputs": [
    {
     "name": "stdout",
     "output_type": "stream",
     "text": [
      "Car Details :   Suzuki  2022  ZDI\n"
     ]
    }
   ],
   "source": [
    "class Car:\n",
    "    def __init__(self,make,year,model):\n",
    "        self.make=make\n",
    "        self.model=model\n",
    "        self.year=year\n",
    "    def info(self):\n",
    "        print(f\"Car Details : {self.make}{self.year}{self.model}\")\n",
    "Swift=Car(\"  Suzuki  \",  2022  , \"  ZDI\")\n",
    "Swift.info()"
   ]
  },
  {
   "cell_type": "code",
   "execution_count": null,
   "id": "99df5a07",
   "metadata": {},
   "outputs": [],
   "source": []
  },
  {
   "cell_type": "code",
   "execution_count": 26,
   "id": "f5843f57",
   "metadata": {},
   "outputs": [
    {
     "name": "stdout",
     "output_type": "stream",
     "text": [
      "True\n"
     ]
    }
   ],
   "source": [
    "class Student():\n",
    "    pass\n",
    "o1=Student() \n",
    "print(isinstance(o1,Student))"
   ]
  },
  {
   "cell_type": "code",
   "execution_count": 3,
   "id": "2a205ec7",
   "metadata": {},
   "outputs": [
    {
     "name": "stdout",
     "output_type": "stream",
     "text": [
      "Name: Mountain Bike, Gears: 11 \n"
     ]
    }
   ],
   "source": [
    "class Bike:\n",
    "    name = \"    \"\n",
    "    gear = 0\n",
    "\n",
    "# create object of class\n",
    "bike1 = Bike()\n",
    "\n",
    "# access attributes and assign new values\n",
    "bike1.gear = 11\n",
    "bike1.name = \"Mountain Bike\"\n",
    "\n",
    "print(f\"Name: {bike1.name}, Gears: {bike1.gear} \")"
   ]
  },
  {
   "cell_type": "code",
   "execution_count": 13,
   "id": "51a5358f",
   "metadata": {},
   "outputs": [
    {
     "name": "stdout",
     "output_type": "stream",
     "text": [
      "Abcd\n"
     ]
    }
   ],
   "source": [
    "class Student:\n",
    "\n",
    "# default constructor\n",
    "    def __init__(self):\n",
    "        self.name = \"Abcd\"\n",
    "\n",
    "# a method for printing data members\n",
    "    def print_name(self):\n",
    "        print(self.name)\n",
    "# creating object of the class\n",
    "obj = Student()\n",
    "obj.print_name() #"
   ]
  },
  {
   "cell_type": "code",
   "execution_count": 2,
   "id": "2dfa4c1f",
   "metadata": {},
   "outputs": [
    {
     "data": {
      "text/plain": [
       "'Odell'"
      ]
     },
     "metadata": {},
     "output_type": "display_data"
    }
   ],
   "source": [
    "first_name = 'odell'\n",
    "\n",
    "last_name = 'Johnson' \n",
    "\n",
    "first_name ='Odell'\n",
    "\n",
    "display(first_name)"
   ]
  },
  {
   "cell_type": "code",
   "execution_count": 1,
   "id": "36daf5aa",
   "metadata": {},
   "outputs": [
    {
     "data": {
      "text/plain": [
       "['ChocChip', 'Van', 'Choc', 'MintChip', 'Straw']"
      ]
     },
     "execution_count": 1,
     "metadata": {},
     "output_type": "execute_result"
    }
   ],
   "source": [
    "ic_flavors = ['ChocChip', 'Van', 'Choc', 'MintChip', 'Straw']\n",
    "\n",
    "ic_flavors[0: ]"
   ]
  },
  {
   "cell_type": "code",
   "execution_count": 2,
   "id": "f0a90cdb",
   "metadata": {},
   "outputs": [
    {
     "data": {
      "text/plain": [
       "'CHI'"
      ]
     },
     "execution_count": 2,
     "metadata": {},
     "output_type": "execute_result"
    }
   ],
   "source": [
    "store_locations = ['ATL', 'AUS', 'CHI', 'NYC', 'SFO']\n",
    "\n",
    "store_locations[2]"
   ]
  },
  {
   "cell_type": "code",
   "execution_count": null,
   "id": "56f4b7a6",
   "metadata": {},
   "outputs": [],
   "source": []
  },
  {
   "cell_type": "code",
   "execution_count": null,
   "id": "b8eb1447",
   "metadata": {},
   "outputs": [],
   "source": []
  }
 ],
 "metadata": {
  "kernelspec": {
   "display_name": "Python 3 (ipykernel)",
   "language": "python",
   "name": "python3"
  },
  "language_info": {
   "codemirror_mode": {
    "name": "ipython",
    "version": 3
   },
   "file_extension": ".py",
   "mimetype": "text/x-python",
   "name": "python",
   "nbconvert_exporter": "python",
   "pygments_lexer": "ipython3",
   "version": "3.11.4"
  }
 },
 "nbformat": 4,
 "nbformat_minor": 5
}
