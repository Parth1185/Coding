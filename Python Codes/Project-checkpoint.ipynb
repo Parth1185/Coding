{
 "cells": [
  {
   "cell_type": "code",
   "execution_count": 7,
   "id": "81445ca3",
   "metadata": {},
   "outputs": [
    {
     "name": "stdout",
     "output_type": "stream",
     "text": [
      "Enter the side 1 : 12\n",
      "Enter the side 2 : 13\n",
      "Enter the side 3 : 5\n",
      "The Area of Triangle is 30.00\n"
     ]
    }
   ],
   "source": [
    "##AREA OF TRIANGLE\n",
    "a=float(input(\"Enter the side 1 : \"))\n",
    "b=float(input(\"Enter the side 2 : \"))\n",
    "c=float(input(\"Enter the side 3 : \"))\n",
    "s= (a+b+c)/2\n",
    "Area = (s*(s-a)*(s-b)*(s-c))**(1/2)\n",
    "print(\"The Area of Triangle is %0.2f\"%Area)"
   ]
  },
  {
   "cell_type": "code",
   "execution_count": 2,
   "id": "1aac0892",
   "metadata": {},
   "outputs": [
    {
     "name": "stdout",
     "output_type": "stream",
     "text": [
      "Enter the value of P  8\n",
      "Enter the value of Q  6\n",
      "The value of P before swapping is 8\n",
      "The value of Q before swapping is 6\n",
      "Now P ---> Q and Q ---> P\n",
      "The value of P after swapping is 6\n",
      "The value of Q after swapping is 8\n"
     ]
    }
   ],
   "source": [
    "P=int(input(\"Enter the value of P  \"))\n",
    "Q=int(input(\"Enter the value of Q  \"))\n",
    "print(\"The value of P before swapping is\", P)\n",
    "print(\"The value of Q before swapping is\", Q)\n",
    "P,Q=Q,P\n",
    "print(\"Now P ---> Q and Q ---> P\")\n",
    "print(\"The value of P after swapping is\", P)\n",
    "print(\"The value of Q after swapping is\", Q)"
   ]
  },
  {
   "cell_type": "code",
   "execution_count": 4,
   "id": "122c2687",
   "metadata": {},
   "outputs": [
    {
     "name": "stdout",
     "output_type": "stream",
     "text": [
      "Enter the temperature in °C : 37\n",
      "The Temperature in Fahrenheit corresponding to 37.0 °C is 98.6 °F\n"
     ]
    }
   ],
   "source": [
    "C = float(input(\"Enter the temperature in °C : \"))\n",
    "F = (C*9/5)+32\n",
    "print(\"The Temperature in Fahrenheit corresponding to\", C, \"°C is\", F_Temp, \"°F\")"
   ]
  },
  {
   "cell_type": "markdown",
   "id": "966e9111",
   "metadata": {},
   "source": [
    "# SESSION 2"
   ]
  },
  {
   "cell_type": "code",
   "execution_count": 8,
   "id": "c5becaff",
   "metadata": {},
   "outputs": [
    {
     "name": "stdout",
     "output_type": "stream",
     "text": [
      "24\n",
      "24 is an Even number\n"
     ]
    }
   ],
   "source": [
    "n=int(input())\n",
    "if n%2 == 0:\n",
    "    print(n, \"is an Even number\")\n",
    "else: \n",
    "    print(n, \"is an Odd number\")"
   ]
  },
  {
   "cell_type": "code",
   "execution_count": 10,
   "id": "6a21c62c",
   "metadata": {},
   "outputs": [
    {
     "name": "stdout",
     "output_type": "stream",
     "text": [
      "0\n",
      "0 is zero\n"
     ]
    }
   ],
   "source": [
    "n = float(input())\n",
    "if n>0:\n",
    "    n=int(n)\n",
    "    print(n, \"is positive\")\n",
    "elif n<0:\n",
    "    n=int(n)\n",
    "    print(n, \"is negative\")\n",
    "else:\n",
    "    n=int(n)\n",
    "    print(n, \"is zero\")"
   ]
  },
  {
   "cell_type": "code",
   "execution_count": 12,
   "id": "ff9486e4",
   "metadata": {},
   "outputs": [
    {
     "name": "stdout",
     "output_type": "stream",
     "text": [
      "524\n",
      "524  is not armstrong\n"
     ]
    }
   ],
   "source": [
    "n=int(input())\n",
    "a=len(str(n))\n",
    "temp=n\n",
    "sum=0\n",
    "while temp>0:\n",
    "    digit=temp%10\n",
    "    sum=sum+(digit**a)\n",
    "    temp=temp//10\n",
    "if n==sum:\n",
    "    print(n,\" is armstrong\")\n",
    "else:\n",
    "    print(n, \" is not armstrong\")"
   ]
  },
  {
   "cell_type": "code",
   "execution_count": 17,
   "id": "ad5211e7",
   "metadata": {},
   "outputs": [
    {
     "name": "stdout",
     "output_type": "stream",
     "text": [
      "86\n",
      "86  is not a fibonacci number\n"
     ]
    }
   ],
   "source": [
    "n=int(input())\n",
    "c=0\n",
    "a,b=1,1\n",
    "if n==0 or n==1:\n",
    "    print(\"Yes\")\n",
    "else:\n",
    "    while c<n:\n",
    "        c=a+b\n",
    "        b=a\n",
    "        a=c\n",
    "    if c==n:\n",
    "        print(n, \" is a fibonacci number\")\n",
    "    else:\n",
    "        print(n, \" is not a fibonacci number\")"
   ]
  },
  {
   "cell_type": "code",
   "execution_count": 13,
   "id": "f894047e",
   "metadata": {},
   "outputs": [
    {
     "name": "stdout",
     "output_type": "stream",
     "text": [
      "Enter your number: 5\n",
      "* * * * * \n",
      "* * * * * \n",
      "* * * * * \n",
      "* * * * * \n",
      "* * * * * \n"
     ]
    }
   ],
   "source": [
    "n=int(input(\"Enter your number: \"))\n",
    "for i in range(0,n):\n",
    "    for j in range(0,n):\n",
    "        print(\"*\" , end = \" \")\n",
    "    print()"
   ]
  },
  {
   "cell_type": "code",
   "execution_count": 2,
   "id": "4a9c743d",
   "metadata": {
    "scrolled": true
   },
   "outputs": [
    {
     "name": "stdout",
     "output_type": "stream",
     "text": [
      "Enter your number: 5\n",
      "1 \n",
      "2 2 \n",
      "3 3 3 \n",
      "4 4 4 4 \n",
      "5 5 5 5 5 \n"
     ]
    }
   ],
   "source": [
    "n=int(input(\"Enter your number: \"))\n",
    "for i in range(1,n+1):\n",
    "    for j in range(1,i+1):\n",
    "        print(i, end =\" \")\n",
    "    print()"
   ]
  },
  {
   "cell_type": "code",
   "execution_count": 17,
   "id": "a5d39c59",
   "metadata": {},
   "outputs": [
    {
     "name": "stdout",
     "output_type": "stream",
     "text": [
      "Enter your number: 5\n",
      "2 \n",
      "3 4 \n",
      "4 5 6 \n",
      "5 6 7 8 \n",
      "6 7 8 9 10 \n"
     ]
    }
   ],
   "source": [
    "n=int(input(\"Enter your number: \"))\n",
    "for i in range(1,n+1):\n",
    "    for j in range(1,i+1):\n",
    "        print(i+j, end =\" \")\n",
    "    print()"
   ]
  },
  {
   "cell_type": "code",
   "execution_count": 20,
   "id": "3f705da0",
   "metadata": {},
   "outputs": [
    {
     "name": "stdout",
     "output_type": "stream",
     "text": [
      "n = 10\n",
      "3025\n"
     ]
    }
   ],
   "source": [
    "n = int(input(\"n = \"))\n",
    "i = 1\n",
    "s = 0\n",
    "while i <= n:\n",
    "    s = s + i ** 3\n",
    "    i=i+1\n",
    "print(s)\n"
   ]
  },
  {
   "cell_type": "code",
   "execution_count": 23,
   "id": "3d5ca405",
   "metadata": {},
   "outputs": [
    {
     "name": "stdout",
     "output_type": "stream",
     "text": [
      "Enter number: 10\n",
      "1\n",
      "3\n",
      "5\n",
      "7\n",
      "9\n"
     ]
    }
   ],
   "source": [
    "n=int(input(\"Enter number: \"))\n",
    "for i in range(1, n+1, 2):\n",
    "    print(i) \n"
   ]
  },
  {
   "cell_type": "code",
   "execution_count": 45,
   "id": "ae10c278",
   "metadata": {},
   "outputs": [
    {
     "name": "stdout",
     "output_type": "stream",
     "text": [
      "enter the number of rows5\n",
      "            1 \n",
      "          1   1 \n",
      "        1   2   1 \n",
      "      1   3   3   1 \n",
      "    1   4   6   4   1 \n"
     ]
    }
   ],
   "source": [
    "num = int(input(\"enter the number of rows\"))\n",
    "for i in range(1, num+1):\n",
    "    for j in range(0, num-i+1):\n",
    "        print(' ', end=' ')\n",
    "    C = 1\n",
    "    for j in range(1, i+1):\n",
    "        print(' ', C, end=' ')\n",
    "        C = C * (i - j) // j\n",
    "    print()"
   ]
  },
  {
   "cell_type": "code",
   "execution_count": 40,
   "id": "348396f6",
   "metadata": {},
   "outputs": [
    {
     "name": "stdout",
     "output_type": "stream",
     "text": [
      "enter the number of rows : 5\n",
      "1 1 1 1 1 \n",
      "2 2 2 2 \n",
      "3 3 3 \n",
      "4 4 \n",
      "5 \n"
     ]
    }
   ],
   "source": [
    "n=int(input(\"enter the number of rows : \"))\n",
    "for i in range(1, n+1):\n",
    "    for j in range(i, n+1):\n",
    "        print(i, end=\" \")\n",
    "    print()"
   ]
  },
  {
   "cell_type": "code",
   "execution_count": 46,
   "id": "e384639c",
   "metadata": {},
   "outputs": [
    {
     "name": "stdout",
     "output_type": "stream",
     "text": [
      "Enter the String: \n",
      "apple is a Fruit\n",
      "\n",
      "The New String is:\n",
      "Apple Is A Fruit\n"
     ]
    }
   ],
   "source": [
    "print(\"Enter the String: \")\n",
    "text = str(input())\n",
    "textLen = len(text)\n",
    "for i in range(textLen):\n",
    "    ch = text[i]\n",
    "    if i==0:\n",
    "        ascVal = ord(ch)\n",
    "        if ascVal>=97 and ascVal<=122:\n",
    "            ascVal = ascVal-32\n",
    "            ascVal = chr(ascVal)\n",
    "            index = 0\n",
    "            text = text[:index] + ascVal + text[index+1:]\n",
    "    if ch==\" \":\n",
    "        ch = text[i+1]\n",
    "        ascVal = ord(ch)\n",
    "        if ascVal>=97 and ascVal<=122:\n",
    "            ascVal = ascVal-32\n",
    "            ascVal = chr(ascVal)\n",
    "            index = i+1\n",
    "            text = text[:index] + ascVal + text[index+1:]\n",
    "print(\"\\nThe New String is:\")\n",
    "print(text)\n"
   ]
  },
  {
   "cell_type": "code",
   "execution_count": null,
   "id": "87d85d98",
   "metadata": {},
   "outputs": [],
   "source": []
  }
 ],
 "metadata": {
  "kernelspec": {
   "display_name": "Python 3 (ipykernel)",
   "language": "python",
   "name": "python3"
  },
  "language_info": {
   "codemirror_mode": {
    "name": "ipython",
    "version": 3
   },
   "file_extension": ".py",
   "mimetype": "text/x-python",
   "name": "python",
   "nbconvert_exporter": "python",
   "pygments_lexer": "ipython3",
   "version": "3.11.4"
  }
 },
 "nbformat": 4,
 "nbformat_minor": 5
}
