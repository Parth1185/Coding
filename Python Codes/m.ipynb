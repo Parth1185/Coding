{
 "cells": [
  {
   "cell_type": "markdown",
   "id": "850d5ae1",
   "metadata": {},
   "source": [
    "## Modules\n",
    "modules refer to the Python file, which contains Python code like Python statements, classes, functions, variables, etc. A file with Python code is defined with extension.py\n",
    "\n",
    "For example: In Test.py, where the test is the module name.\n",
    "\n",
    "In Python, large code is divided into small modules. The benefit of modules is, it provides a way to share reusable functions."
   ]
  },
  {
   "cell_type": "markdown",
   "id": "a404bfc6",
   "metadata": {},
   "source": [
    "## Types of modules\n",
    "In Python, there are two types of modules.\n",
    "\n",
    "Built-in Modules\n",
    "\n",
    "User-defined Modules"
   ]
  },
  {
   "cell_type": "markdown",
   "id": "a48b52a0",
   "metadata": {},
   "source": [
    "## Built in Modules\n",
    "Built-in modules come with default Python installation. One of Python’s most significant advantages is its rich library support that contains lots of built-in modules. Hence, it provides a lot of reusable code.\n",
    "\n",
    "Some commonly used Python built-in modules are datetime, os, math, sys, random, etc."
   ]
  },
  {
   "cell_type": "markdown",
   "id": "c0465bef",
   "metadata": {},
   "source": [
    "## User-defined modules\n",
    "The modules which the user defines or create are called a user-defined module. We can create our own module, which contains classes, functions, variables, etc., as per our requirements."
   ]
  },
  {
   "cell_type": "markdown",
   "id": "c78299f6",
   "metadata": {},
   "source": [
    "## How to import modules?\n",
    "\n",
    "In Python, the import statement is used to import the whole module. Also, we can import specific classes and functions from a module.\n",
    "\n",
    "For example, import module name.\n",
    "\n",
    "When the interpreter finds an import statement, it imports the module presented in a search path. The module is loaded only once, even we import multiple times.\n",
    "\n",
    "To import modules in Python, we use the Python import keyword. With the help of the import keyword, both the built-in and user-defined modules are imported. "
   ]
  },
  {
   "cell_type": "code",
   "execution_count": 1,
   "id": "f0820ee0",
   "metadata": {},
   "outputs": [
    {
     "name": "stdout",
     "output_type": "stream",
     "text": [
      "2.23606797749979\n"
     ]
    }
   ],
   "source": [
    "import math\n",
    "\n",
    "# use math module functions\n",
    "print(math.sqrt(5))\n",
    "# Output 2.23606797749979"
   ]
  },
  {
   "cell_type": "markdown",
   "id": "1745a933",
   "metadata": {},
   "source": [
    "## Import multiple modules\n",
    "If we want to use more than one module, then we can import multiple modules. This is the simplest form of import statement that we already used in the above example.\\\n",
    "Syntax of import statement:\n",
    "\n",
    "import module1[,module2[,.. moduleN]\n"
   ]
  },
  {
   "cell_type": "code",
   "execution_count": 3,
   "id": "bbf229f2",
   "metadata": {},
   "outputs": [
    {
     "name": "stdout",
     "output_type": "stream",
     "text": [
      "120\n",
      "20\n"
     ]
    }
   ],
   "source": [
    "# Import two modules\n",
    "import math, random\n",
    "\n",
    "print(math.factorial(5))\n",
    "print(random.randint(10, 20))\n"
   ]
  },
  {
   "cell_type": "markdown",
   "id": "494bdb43",
   "metadata": {},
   "source": [
    "## Import only specific classes or functions from a module\n",
    "To import particular classes or functions, we can use the from...import statement. It is an alternate way to import. Using this way, we can import individual attributes and methods directly into the program.\n",
    "\n",
    "In this way, we are not required to use the module name. See the following example.\n",
    "\n",
    "Syntax of from...import statement:\n",
    "\n",
    "from module_name import name(s)"
   ]
  },
  {
   "cell_type": "code",
   "execution_count": 4,
   "id": "ebd8adfd",
   "metadata": {},
   "outputs": [
    {
     "name": "stdout",
     "output_type": "stream",
     "text": [
      "120\n"
     ]
    }
   ],
   "source": [
    "# import only factorial function from math module\n",
    "from math import factorial\n",
    "\n",
    "print(factorial(5))"
   ]
  },
  {
   "cell_type": "markdown",
   "id": "3d3d4130",
   "metadata": {},
   "source": [
    "## Import with renaming a module\n",
    "If we want to use the module with a different name, we can use from..import…as statement.\n",
    "\n",
    "It is also possible to import a particular method and use that method with a different name. It is called aliasing. Afterward, we can use that name in the entire program.\n",
    "\n",
    "Syntax of from..import ..as keyword:\n",
    "\n",
    "from module_name import name as alternative_name"
   ]
  },
  {
   "cell_type": "code",
   "execution_count": 5,
   "id": "7e146187",
   "metadata": {},
   "outputs": [
    {
     "name": "stdout",
     "output_type": "stream",
     "text": [
      "45\n"
     ]
    }
   ],
   "source": [
    "# rename randint as random_number\n",
    "from random import randint as random_number\n",
    "\n",
    "# Gives any random number from range(10, 50)\n",
    "print(random_number(10, 50))\n"
   ]
  },
  {
   "cell_type": "markdown",
   "id": "9d937a8e",
   "metadata": {},
   "source": [
    "## Import all names\n",
    "If we need to import all functions and attributes of a specific module, then instead of writing all function names and attribute names, we can import all using an asterisk *.\n",
    "\n",
    "Syntax of import * statement:\n",
    "\n",
    "import *"
   ]
  },
  {
   "cell_type": "code",
   "execution_count": 6,
   "id": "a9347403",
   "metadata": {},
   "outputs": [
    {
     "name": "stdout",
     "output_type": "stream",
     "text": [
      "16.0\n",
      "120\n",
      "9.42477796076938\n",
      "10.0\n"
     ]
    }
   ],
   "source": [
    "from math import *\n",
    "print(pow(4,2))\n",
    "print(factorial(5))\n",
    "\n",
    "print(pi*3)\n",
    "print(sqrt(100))"
   ]
  },
  {
   "cell_type": "markdown",
   "id": "aadfa265",
   "metadata": {},
   "source": [
    "## Create Module\n",
    "In Python, to create a module, write Python code in the file, and save that file with the.py extension. Here our module is created.\n",
    "\n",
    "## Variables in Module\n",
    "In Python, the module contains Python code like classes, functions, methods, but it also has variables. A variable can list, tuple, dict, etc."
   ]
  },
  {
   "cell_type": "code",
   "execution_count": 12,
   "id": "df776570",
   "metadata": {},
   "outputs": [
    {
     "name": "stdout",
     "output_type": "stream",
     "text": [
      "Accessing 1st city: Delhi\n",
      "Learn Python with PYnative\n",
      "Accessing function: None\n",
      "Accessing All cities : ['Mumbai', 'Delhi', 'Bangalore', 'Karnataka', 'Hyderabad']\n"
     ]
    }
   ],
   "source": [
    "import test\n",
    "\n",
    "# access first city\n",
    "city = test.cities_list[1]\n",
    "print(\"Accessing 1st city:\", city)\n",
    "print(\"Accessing function:\",test.my_func())\n",
    "\n",
    "# Get all cities\n",
    "cities = test.cities_list\n",
    "print(\"Accessing All cities :\", cities)"
   ]
  },
  {
   "cell_type": "markdown",
   "id": "3708efbb",
   "metadata": {},
   "source": [
    "## The dir() function\n",
    "In Python, dir() is a built-in function. This function is used to list all members of the current module. When we use this function with any object (an object can be sequence like list, tuple, set, dict or can be class, function, module, etc. ), it returns properties, attributes, and method.\n",
    "\n",
    "For Class Objects, it returns a list of names of all the valid attributes and base attributes.\n",
    "\n",
    "Syntax of dir() function:\n",
    "\n",
    "dir([object])"
   ]
  },
  {
   "cell_type": "code",
   "execution_count": 13,
   "id": "137067fc",
   "metadata": {},
   "outputs": [
    {
     "name": "stdout",
     "output_type": "stream",
     "text": [
      "['__doc__', '__loader__', '__name__', '__package__', '__spec__', 'acos', 'acosh', 'asin', 'asinh', 'atan', 'atan2', 'atanh', 'ceil', 'comb', 'copysign', 'cos', 'cosh', 'degrees', 'dist', 'e', 'erf', 'erfc', 'exp', 'expm1', 'fabs', 'factorial', 'floor', 'fmod', 'frexp', 'fsum', 'gamma', 'gcd', 'hypot', 'inf', 'isclose', 'isfinite', 'isinf', 'isnan', 'isqrt', 'ldexp', 'lgamma', 'log', 'log10', 'log1p', 'log2', 'modf', 'nan', 'perm', 'pi', 'pow', 'prod', 'radians', 'remainder', 'sin', 'sinh', 'sqrt', 'tan', 'tanh', 'tau', 'trunc']\n"
     ]
    }
   ],
   "source": [
    "import math\n",
    "\n",
    "print(dir(math))"
   ]
  },
  {
   "cell_type": "code",
   "execution_count": 14,
   "id": "d48f1ccd",
   "metadata": {},
   "outputs": [
    {
     "name": "stdout",
     "output_type": "stream",
     "text": [
      "['BPF', 'LOG4', 'NV_MAGICCONST', 'RECIP_BPF', 'Random', 'SG_MAGICCONST', 'SystemRandom', 'TWOPI', '_Sequence', '_Set', '__all__', '__builtins__', '__cached__', '__doc__', '__file__', '__loader__', '__name__', '__package__', '__spec__', '_accumulate', '_acos', '_bisect', '_ceil', '_cos', '_e', '_exp', '_inst', '_log', '_os', '_pi', '_random', '_repeat', '_sha512', '_sin', '_sqrt', '_test', '_test_generator', '_urandom', '_warn', 'betavariate', 'choice', 'choices', 'expovariate', 'gammavariate', 'gauss', 'getrandbits', 'getstate', 'lognormvariate', 'normalvariate', 'paretovariate', 'randint', 'random', 'randrange', 'sample', 'seed', 'setstate', 'shuffle', 'triangular', 'uniform', 'vonmisesvariate', 'weibullvariate']\n"
     ]
    }
   ],
   "source": [
    "import random\n",
    "print(dir(random))"
   ]
  },
  {
   "cell_type": "code",
   "execution_count": null,
   "id": "a4fab53b",
   "metadata": {},
   "outputs": [],
   "source": []
  }
 ],
 "metadata": {
  "kernelspec": {
   "display_name": "Python 3 (ipykernel)",
   "language": "python",
   "name": "python3"
  },
  "language_info": {
   "codemirror_mode": {
    "name": "ipython",
    "version": 3
   },
   "file_extension": ".py",
   "mimetype": "text/x-python",
   "name": "python",
   "nbconvert_exporter": "python",
   "pygments_lexer": "ipython3",
   "version": "3.8.8"
  }
 },
 "nbformat": 4,
 "nbformat_minor": 5
}
