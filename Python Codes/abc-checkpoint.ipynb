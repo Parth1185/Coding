{
 "cells": [
  {
   "cell_type": "code",
   "execution_count": 1,
   "id": "f8cf0c70",
   "metadata": {},
   "outputs": [
    {
     "name": "stdout",
     "output_type": "stream",
     "text": [
      "5\n",
      "5\n",
      "8\n",
      "The sum of 2 numbers is 10\n",
      "13\n"
     ]
    }
   ],
   "source": [
    "#Single Line Comment\n",
    "a=int(input())\n",
    "b=int(input())\n",
    "c=int(input())\n",
    "d=a+c\n",
    "c=a+b #Find Sum\n",
    "print(\"The sum of 2 numbers is\", c)\n",
    "print(d)"
   ]
  },
  {
   "cell_type": "code",
   "execution_count": 4,
   "id": "702b862b",
   "metadata": {},
   "outputs": [
    {
     "name": "stdout",
     "output_type": "stream",
     "text": [
      "5\n",
      "Square of a is 25\n"
     ]
    }
   ],
   "source": [
    "a= int(input())\n",
    "if a<10:\n",
    "    c=a*a\n",
    "    print(\"Square of a is\", c)\n",
    "else:\n",
    "    print(\"NA\")"
   ]
  },
  {
   "cell_type": "code",
   "execution_count": 30,
   "id": "e6a9f115",
   "metadata": {},
   "outputs": [
    {
     "name": "stdout",
     "output_type": "stream",
     "text": [
      "10\n",
      "the table of 10\n",
      "10  20  30  40  50  60  70  80  90  100  "
     ]
    }
   ],
   "source": [
    "n=int(input())\n",
    "print(\"the table of\", n)\n",
    "for p in range (n,105,n):\n",
    "    print(p, end=\"  \")"
   ]
  },
  {
   "cell_type": "code",
   "execution_count": 18,
   "id": "368e609e",
   "metadata": {},
   "outputs": [
    {
     "name": "stdout",
     "output_type": "stream",
     "text": [
      "Multiplication Table\n",
      "1 \t 2 \t 3 \t 4 \t 5\n",
      "2 \t 4 \t 6 \t 8 \t 10\n",
      "3 \t 6 \t 9 \t 12 \t 15\n",
      "4 \t 8 \t 12 \t 16 \t 20\n",
      "5 \t 10 \t 15 \t 20 \t 25\n",
      "6 \t 12 \t 18 \t 24 \t 30\n",
      "7 \t 14 \t 21 \t 28 \t 35\n",
      "8 \t 16 \t 24 \t 32 \t 40\n",
      "9 \t 18 \t 27 \t 36 \t 45\n",
      "10 \t 20 \t 30 \t 40 \t 50\n"
     ]
    }
   ],
   "source": [
    "print(\"Multiplication Table\")\n",
    "for i in range(1,11):\n",
    "    print(i,'\\t',2*i,'\\t',3*i,'\\t',4*i,'\\t',5*i)"
   ]
  },
  {
   "cell_type": "code",
   "execution_count": 39,
   "id": "964e6af5",
   "metadata": {},
   "outputs": [
    {
     "name": "stdout",
     "output_type": "stream",
     "text": [
      "Balance =  4500.0\n",
      "Balance =  4050.0\n",
      "Balance =  3645.0\n",
      "Balance =  3280.5\n"
     ]
    }
   ],
   "source": [
    "amt=5000\n",
    "while amt>3500:\n",
    "    amt=amt- 10/100*amt\n",
    "    print(\"Balance = \", amt)"
   ]
  },
  {
   "cell_type": "code",
   "execution_count": 46,
   "id": "0755f4c4",
   "metadata": {},
   "outputs": [
    {
     "name": "stdout",
     "output_type": "stream",
     "text": [
      "        \n",
      "New Principal= 5500.0\n",
      "        \n",
      "New Principal= 6050.0\n",
      "        \n",
      "New Principal= 6655.0\n",
      "        \n",
      "New Principal= 7320.5\n",
      "        \n",
      "New Principal= 8052.55\n",
      "        \n",
      "New Principal= 8857.805\n",
      "        \n",
      "New Principal= 9743.585500000001\n",
      "        \n",
      "New Principal= 10717.944050000002\n",
      "        \n",
      "New Principal= 11789.738455000002\n",
      "        \n",
      "New Principal= 12968.712300500003\n",
      "The While loop ends\n"
     ]
    }
   ],
   "source": [
    "r,t=10,1\n",
    "p=5000\n",
    "while p<=12000:\n",
    "    SI=p*r*t/100\n",
    "    p=p+SI\n",
    "    print(\"        \")\n",
    "    print(\"New Principal=\", p)\n",
    "print('The While loop ends')    "
   ]
  },
  {
   "cell_type": "code",
   "execution_count": 49,
   "id": "86a49dbf",
   "metadata": {},
   "outputs": [
    {
     "name": "stdout",
     "output_type": "stream",
     "text": [
      "The program terminates, if less than 5\n",
      "PROGRAM ENDS\n"
     ]
    }
   ],
   "source": [
    "a,b=25,3\n",
    "print('The program terminates, if less than 5')\n",
    "while a>0:\n",
    "    a=a-b\n",
    "    if a<5:\n",
    "        break\n",
    "        print(a)\n",
    "print(\"PROGRAM ENDS\")\n",
    "    "
   ]
  },
  {
   "cell_type": "code",
   "execution_count": null,
   "id": "e6b2f5b4",
   "metadata": {},
   "outputs": [
    {
     "name": "stdout",
     "output_type": "stream",
     "text": [
      "5\n",
      "6\n",
      "program continues\n",
      "5\n",
      "-9\n",
      "Sum of a & b is -4\n"
     ]
    }
   ],
   "source": [
    "for i in range(1,11):\n",
    "    a=int(input())\n",
    "    b=int(input())\n",
    "    c=a+b\n",
    "    if c>0:\n",
    "        print(\"program continues\")\n",
    "        continue\n",
    "    print(\"Sum of a & b is\", c)"
   ]
  },
  {
   "cell_type": "code",
   "execution_count": null,
   "id": "480da7a4",
   "metadata": {},
   "outputs": [],
   "source": []
  },
  {
   "cell_type": "code",
   "execution_count": null,
   "id": "2326e22e",
   "metadata": {},
   "outputs": [],
   "source": []
  }
 ],
 "metadata": {
  "kernelspec": {
   "display_name": "Python 3 (ipykernel)",
   "language": "python",
   "name": "python3"
  },
  "language_info": {
   "codemirror_mode": {
    "name": "ipython",
    "version": 3
   },
   "file_extension": ".py",
   "mimetype": "text/x-python",
   "name": "python",
   "nbconvert_exporter": "python",
   "pygments_lexer": "ipython3",
   "version": "3.11.4"
  }
 },
 "nbformat": 4,
 "nbformat_minor": 5
}
