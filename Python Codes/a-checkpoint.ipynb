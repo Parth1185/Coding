{
 "cells": [
  {
   "cell_type": "code",
   "execution_count": 1,
   "id": "26b41d42",
   "metadata": {},
   "outputs": [
    {
     "data": {
      "text/plain": [
       "3"
      ]
     },
     "execution_count": 1,
     "metadata": {},
     "output_type": "execute_result"
    }
   ],
   "source": [
    "3"
   ]
  },
  {
   "cell_type": "code",
   "execution_count": 2,
   "id": "e695d780",
   "metadata": {},
   "outputs": [
    {
     "data": {
      "text/plain": [
       "0"
      ]
     },
     "execution_count": 2,
     "metadata": {},
     "output_type": "execute_result"
    }
   ],
   "source": [
    "3+5-8"
   ]
  },
  {
   "cell_type": "code",
   "execution_count": 3,
   "id": "dfc9ec68",
   "metadata": {},
   "outputs": [
    {
     "data": {
      "text/plain": [
       "3.0"
      ]
     },
     "execution_count": 3,
     "metadata": {},
     "output_type": "execute_result"
    }
   ],
   "source": [
    "a=6\n",
    "a/2"
   ]
  },
  {
   "cell_type": "code",
   "execution_count": 4,
   "id": "627d41ad",
   "metadata": {},
   "outputs": [
    {
     "name": "stdout",
     "output_type": "stream",
     "text": [
      "Hello, World\n"
     ]
    }
   ],
   "source": [
    "print(\"Hello, World\")"
   ]
  },
  {
   "cell_type": "code",
   "execution_count": 5,
   "id": "630955e8",
   "metadata": {},
   "outputs": [
    {
     "name": "stdout",
     "output_type": "stream",
     "text": [
      "Hello, World!\n"
     ]
    }
   ],
   "source": [
    "print(\"Hello, World!\")"
   ]
  },
  {
   "cell_type": "code",
   "execution_count": 6,
   "id": "50f40108",
   "metadata": {},
   "outputs": [
    {
     "name": "stdout",
     "output_type": "stream",
     "text": [
      "Suppose two swallows \"carry\" it together\n"
     ]
    }
   ],
   "source": [
    "print(\"Suppose two swallows \\\"carry\\\" it together\")"
   ]
  },
  {
   "cell_type": "code",
   "execution_count": 7,
   "id": "c0361646",
   "metadata": {},
   "outputs": [
    {
     "name": "stdout",
     "output_type": "stream",
     "text": [
      "African or 'Europian' Swallows?\n"
     ]
    }
   ],
   "source": [
    "print(\"African or 'Europian' Swallows?\")"
   ]
  },
  {
   "cell_type": "code",
   "execution_count": 8,
   "id": "8ff01a99",
   "metadata": {},
   "outputs": [
    {
     "name": "stdout",
     "output_type": "stream",
     "text": [
      "5\n"
     ]
    }
   ],
   "source": [
    "x=5\n",
    "print (x)"
   ]
  },
  {
   "cell_type": "code",
   "execution_count": 9,
   "id": "64d38116",
   "metadata": {},
   "outputs": [
    {
     "name": "stdout",
     "output_type": "stream",
     "text": [
      "50 50 50\n"
     ]
    }
   ],
   "source": [
    "x=y=z=50\n",
    "print(x,y,z)"
   ]
  },
  {
   "cell_type": "markdown",
   "id": "723699ff",
   "metadata": {},
   "source": [
    "# a,b,c=5,10,15\n",
    "print(a,b,c)"
   ]
  },
  {
   "cell_type": "code",
   "execution_count": 10,
   "id": "3b88213d",
   "metadata": {},
   "outputs": [
    {
     "name": "stdout",
     "output_type": "stream",
     "text": [
      "x 5\n"
     ]
    }
   ],
   "source": [
    "x=5\n",
    "print(\"x\",x)"
   ]
  },
  {
   "cell_type": "code",
   "execution_count": 11,
   "id": "30e1c05c",
   "metadata": {
    "scrolled": false
   },
   "outputs": [
    {
     "name": "stdout",
     "output_type": "stream",
     "text": [
      "<class 'str'>\n",
      "<class 'int'>\n",
      "<class 'float'>\n",
      "<class 'float'>\n",
      "<class 'int'>\n"
     ]
    }
   ],
   "source": [
    "a = \"Apple\"\n",
    "b = 5e1\n",
    "c = 55.59\n",
    "d=-5.59\n",
    "e=-5\n",
    "print(type(a))\n",
    "print(type(x))\n",
    "print(type(c))\n",
    "print(type(d))\n",
    "print(type(e))"
   ]
  },
  {
   "cell_type": "markdown",
   "id": "1f4e5d28",
   "metadata": {},
   "source": [
    "# THIS IS A NEW HEADING"
   ]
  },
  {
   "cell_type": "code",
   "execution_count": 12,
   "id": "56fa0184",
   "metadata": {},
   "outputs": [
    {
     "name": "stdout",
     "output_type": "stream",
     "text": [
      "GOOD MORNING\n"
     ]
    }
   ],
   "source": [
    "print(\"GOOD MORNING\")"
   ]
  },
  {
   "cell_type": "code",
   "execution_count": 13,
   "id": "bc608d5d",
   "metadata": {},
   "outputs": [
    {
     "name": "stdout",
     "output_type": "stream",
     "text": [
      "36 275 -14\n",
      "<class 'int'>\n"
     ]
    }
   ],
   "source": [
    "a=11\n",
    "b=25\n",
    "s=a+b\n",
    "p=a*b\n",
    "m=a-b\n",
    "print(s,p,m)\n",
    "print(type(m))"
   ]
  },
  {
   "cell_type": "code",
   "execution_count": 14,
   "id": "775aaaf6",
   "metadata": {},
   "outputs": [
    {
     "name": "stdout",
     "output_type": "stream",
     "text": [
      "1.0\n",
      "2\n",
      "(3+0j)\n",
      "<class 'float'>\n",
      "<class 'int'>\n",
      "<class 'complex'>\n",
      "<class 'int'>\n"
     ]
    }
   ],
   "source": [
    "# this is a simple program\n",
    "x=1\n",
    "y=2.5\n",
    "z=3\n",
    "a=float(x)\n",
    "b=int(y)\n",
    "c=complex(z)\n",
    "print(a)\n",
    "print(b)\n",
    "print(c)\n",
    "print(type(a))\n",
    "print(type(b))\n",
    "print(type(c))\n",
    "print(type(x))"
   ]
  },
  {
   "cell_type": "code",
   "execution_count": 15,
   "id": "b0f39e15",
   "metadata": {},
   "outputs": [
    {
     "name": "stdout",
     "output_type": "stream",
     "text": [
      "True\n",
      "False\n",
      "True\n"
     ]
    }
   ],
   "source": [
    "print(10>9)\n",
    "print(10==9)\n",
    "print(9==9)"
   ]
  },
  {
   "cell_type": "code",
   "execution_count": 16,
   "id": "e0d72f73",
   "metadata": {},
   "outputs": [
    {
     "name": "stdout",
     "output_type": "stream",
     "text": [
      "True\n",
      "True\n",
      "False\n"
     ]
    }
   ],
   "source": [
    "x=\"hello\"\n",
    "y=10\n",
    "z=\"\"\n",
    "print(bool(x))\n",
    "print(bool(y))\n",
    "print(bool(z))"
   ]
  },
  {
   "cell_type": "code",
   "execution_count": 17,
   "id": "7f454abc",
   "metadata": {},
   "outputs": [
    {
     "ename": "NameError",
     "evalue": "name 'false' is not defined",
     "output_type": "error",
     "traceback": [
      "\u001b[1;31m---------------------------------------------------------------------------\u001b[0m",
      "\u001b[1;31mNameError\u001b[0m                                 Traceback (most recent call last)",
      "Cell \u001b[1;32mIn[17], line 2\u001b[0m\n\u001b[0;32m      1\u001b[0m \u001b[38;5;66;03m#bool false statements\u001b[39;00m\n\u001b[1;32m----> 2\u001b[0m false\n\u001b[0;32m      3\u001b[0m none\n\u001b[0;32m      4\u001b[0m \u001b[38;5;241m0\u001b[39m\n",
      "\u001b[1;31mNameError\u001b[0m: name 'false' is not defined"
     ]
    }
   ],
   "source": [
    "#bool false statements\n",
    "false\n",
    "none\n",
    "0\n",
    "\"\"\n",
    "()\n",
    "{}\n",
    "[]"
   ]
  },
  {
   "cell_type": "code",
   "execution_count": null,
   "id": "4b7d3c19",
   "metadata": {},
   "outputs": [],
   "source": [
    "text1=\"hello\"\n",
    "text2=\"hello\\\n",
    "user\"\n",
    "print(text1)\n",
    "print(text2)"
   ]
  },
  {
   "cell_type": "code",
   "execution_count": null,
   "id": "5db2dd9c",
   "metadata": {},
   "outputs": [],
   "source": [
    "x=010100\n",
    "print(x)"
   ]
  },
  {
   "cell_type": "code",
   "execution_count": null,
   "id": "62ccec28",
   "metadata": {},
   "outputs": [],
   "source": [
    "n= int(input())\n",
    "odd = 0\n",
    "even = 0\n",
    "x = 0\n",
    "while n>0:\n",
    "    x = n%10 \n",
    "    if x%2==0:\n",
    "        even = even + x\n",
    "    else:\n",
    "        odd = odd + x\n",
    "    n = n//10\n",
    "print(even, odd)"
   ]
  },
  {
   "cell_type": "code",
   "execution_count": null,
   "id": "a0ddb0f1",
   "metadata": {},
   "outputs": [],
   "source": [
    "a=5\n",
    "b=5\n",
    "c=5\n",
    "if a==b & b==c & a==c:\n",
    "  print (\"1\")\n",
    "if a==b ^ b==c ^ a==c:\n",
    "  print (\"0\")\n",
    "else:\n",
    "  print (\"-1\")\n"
   ]
  },
  {
   "cell_type": "code",
   "execution_count": null,
   "id": "0f40d13a",
   "metadata": {},
   "outputs": [],
   "source": [
    "n = int(input())\n",
    "d=2\n",
    "flag=False\n",
    "while d<n:\n",
    "    if n%d==0:\n",
    "        flag = True\n",
    "    d=d+1\n",
    "if flag:\n",
    "    print (\"n is not prime\")\n",
    "else:\n",
    "    print(\"n is  prime\")"
   ]
  },
  {
   "cell_type": "code",
   "execution_count": null,
   "id": "9671f828",
   "metadata": {},
   "outputs": [],
   "source": [
    "n=int(input())\n",
    "temp=n\n",
    "rev=0\n",
    "while(n>0):\n",
    "        dig=n%10\n",
    "        rev=rev*10+dig\n",
    "        n=n//10\n",
    "    \n",
    "if(temp==rev):\n",
    "    print(True)\n",
    "else:\n",
    "    print(False)"
   ]
  },
  {
   "cell_type": "code",
   "execution_count": null,
   "id": "743a2acf",
   "metadata": {},
   "outputs": [],
   "source": [
    "n=int(input())\n",
    "if n<=100:\n",
    "    print(0)\n",
    "elif n<=200 and n>=100:\n",
    "    print((n-100)*5)\n",
    "else:\n",
    "    print((n-200)*10+500)"
   ]
  },
  {
   "cell_type": "code",
   "execution_count": null,
   "id": "bd8665f0",
   "metadata": {},
   "outputs": [],
   "source": [
    "n = 5\n",
    "for i in range(n, 0, -1):\n",
    "    for j in range(n, i, -1):\n",
    "        print(chr(65 + j - 1), end='')\n",
    "    print()"
   ]
  },
  {
   "cell_type": "code",
   "execution_count": 19,
   "id": "4d36a9c4",
   "metadata": {},
   "outputs": [
    {
     "name": "stdout",
     "output_type": "stream",
     "text": [
      "Enter the side a : 5\n",
      "Enter the side b : 10\n",
      "Perimeter of Triangle is :  30\n",
      "Area of Triangle is :  50\n"
     ]
    }
   ],
   "source": [
    "a=int(input(\"Enter the side a : \"))\n",
    "b=int(input(\"Enter the side b : \"))\n",
    "Perimeter = (2*(a+b))\n",
    "Area = a*b\n",
    "print(\"Perimeter of Triangle is : \", Perimeter)\n",
    "print(\"Area of Triangle is : \", Area)"
   ]
  },
  {
   "cell_type": "code",
   "execution_count": 25,
   "id": "df9ff20e",
   "metadata": {},
   "outputs": [
    {
     "name": "stdout",
     "output_type": "stream",
     "text": [
      "5\n",
      "1\n",
      "3\n",
      "5\n"
     ]
    }
   ],
   "source": [
    "n= int(input())\n",
    "for i in range (1, n+1, 2):\n",
    "    print(i)"
   ]
  },
  {
   "cell_type": "code",
   "execution_count": 27,
   "id": "0a75c17b",
   "metadata": {},
   "outputs": [
    {
     "name": "stdout",
     "output_type": "stream",
     "text": [
      "5\n",
      "225\n"
     ]
    }
   ],
   "source": [
    "n=int(input())\n",
    "sum=0\n",
    "i=1\n",
    "while i<=n:\n",
    "    sum=sum+ i**3\n",
    "    i=i+1\n",
    "print(sum)"
   ]
  },
  {
   "cell_type": "code",
   "execution_count": null,
   "id": "521a05b9",
   "metadata": {},
   "outputs": [],
   "source": []
  }
 ],
 "metadata": {
  "kernelspec": {
   "display_name": "Python 3 (ipykernel)",
   "language": "python",
   "name": "python3"
  },
  "language_info": {
   "codemirror_mode": {
    "name": "ipython",
    "version": 3
   },
   "file_extension": ".py",
   "mimetype": "text/x-python",
   "name": "python",
   "nbconvert_exporter": "python",
   "pygments_lexer": "ipython3",
   "version": "3.11.4"
  }
 },
 "nbformat": 4,
 "nbformat_minor": 5
}
