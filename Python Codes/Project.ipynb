{
 "cells": [
  {
   "cell_type": "code",
   "execution_count": 7,
   "id": "81445ca3",
   "metadata": {},
   "outputs": [
    {
     "name": "stdout",
     "output_type": "stream",
     "text": [
      "Enter the side 1 : 12\n",
      "Enter the side 2 : 13\n",
      "Enter the side 3 : 5\n",
      "The Area of Triangle is 30.00\n"
     ]
    }
   ],
   "source": [
    "##AREA OF TRIANGLE\n",
    "a=float(input(\"Enter the side 1 : \"))\n",
    "b=float(input(\"Enter the side 2 : \"))\n",
    "c=float(input(\"Enter the side 3 : \"))\n",
    "s= (a+b+c)/2\n",
    "Area = (s*(s-a)*(s-b)*(s-c))**(1/2)\n",
    "print(\"The Area of Triangle is %0.2f\"%Area)"
   ]
  },
  {
   "cell_type": "code",
   "execution_count": 2,
   "id": "1aac0892",
   "metadata": {},
   "outputs": [
    {
     "name": "stdout",
     "output_type": "stream",
     "text": [
      "Enter the value of P  8\n",
      "Enter the value of Q  6\n",
      "The value of P before swapping is 8\n",
      "The value of Q before swapping is 6\n",
      "Now P ---> Q and Q ---> P\n",
      "The value of P after swapping is 6\n",
      "The value of Q after swapping is 8\n"
     ]
    }
   ],
   "source": [
    "P=int(input(\"Enter the value of P  \"))\n",
    "Q=int(input(\"Enter the value of Q  \"))\n",
    "print(\"The value of P before swapping is\", P)\n",
    "print(\"The value of Q before swapping is\", Q)\n",
    "P,Q=Q,P\n",
    "print(\"Now P ---> Q and Q ---> P\")\n",
    "print(\"The value of P after swapping is\", P)\n",
    "print(\"The value of Q after swapping is\", Q)"
   ]
  },
  {
   "cell_type": "code",
   "execution_count": 4,
   "id": "122c2687",
   "metadata": {},
   "outputs": [
    {
     "name": "stdout",
     "output_type": "stream",
     "text": [
      "Enter the temperature in °C : 37\n",
      "The Temperature in Fahrenheit corresponding to 37.0 °C is 98.6 °F\n"
     ]
    }
   ],
   "source": [
    "C = float(input(\"Enter the temperature in °C : \"))\n",
    "F = (C*9/5)+32\n",
    "print(\"The Temperature in Fahrenheit corresponding to\", C, \"°C is\", F_Temp, \"°F\")"
   ]
  },
  {
   "cell_type": "markdown",
   "id": "966e9111",
   "metadata": {},
   "source": [
    "# SESSION 2"
   ]
  },
  {
   "cell_type": "code",
   "execution_count": 8,
   "id": "c5becaff",
   "metadata": {},
   "outputs": [
    {
     "name": "stdout",
     "output_type": "stream",
     "text": [
      "24\n",
      "24 is an Even number\n"
     ]
    }
   ],
   "source": [
    "n=int(input())\n",
    "if n%2 == 0:\n",
    "    print(n, \"is an Even number\")\n",
    "else: \n",
    "    print(n, \"is an Odd number\")"
   ]
  },
  {
   "cell_type": "code",
   "execution_count": 10,
   "id": "6a21c62c",
   "metadata": {},
   "outputs": [
    {
     "name": "stdout",
     "output_type": "stream",
     "text": [
      "0\n",
      "0 is zero\n"
     ]
    }
   ],
   "source": [
    "n = float(input())\n",
    "if n>0:\n",
    "    n=int(n)\n",
    "    print(n, \"is positive\")\n",
    "elif n<0:\n",
    "    n=int(n)\n",
    "    print(n, \"is negative\")\n",
    "else:\n",
    "    n=int(n)\n",
    "    print(n, \"is zero\")"
   ]
  },
  {
   "cell_type": "code",
   "execution_count": 12,
   "id": "ff9486e4",
   "metadata": {},
   "outputs": [
    {
     "name": "stdout",
     "output_type": "stream",
     "text": [
      "524\n",
      "524  is not armstrong\n"
     ]
    }
   ],
   "source": [
    "n=int(input())\n",
    "a=len(str(n))\n",
    "temp=n\n",
    "sum=0\n",
    "while temp>0:\n",
    "    digit=temp%10\n",
    "    sum=sum+(digit**a)\n",
    "    temp=temp//10\n",
    "if n==sum:\n",
    "    print(n,\" is armstrong\")\n",
    "else:\n",
    "    print(n, \" is not armstrong\")"
   ]
  },
  {
   "cell_type": "code",
   "execution_count": 17,
   "id": "ad5211e7",
   "metadata": {},
   "outputs": [
    {
     "name": "stdout",
     "output_type": "stream",
     "text": [
      "86\n",
      "86  is not a fibonacci number\n"
     ]
    }
   ],
   "source": [
    "n=int(input())\n",
    "c=0\n",
    "a,b=1,1\n",
    "if n==0 or n==1:\n",
    "    print(\"Yes\")\n",
    "else:\n",
    "    while c<n:\n",
    "        c=a+b\n",
    "        b=a\n",
    "        a=c\n",
    "    if c==n:\n",
    "        print(n, \" is a fibonacci number\")\n",
    "    else:\n",
    "        print(n, \" is not a fibonacci number\")"
   ]
  },
  {
   "cell_type": "code",
   "execution_count": 4,
   "id": "f894047e",
   "metadata": {},
   "outputs": [
    {
     "name": "stdout",
     "output_type": "stream",
     "text": [
      "Enter your number: 2\n",
      "* * \n",
      "* * \n"
     ]
    }
   ],
   "source": [
    "n=int(input(\"Enter your number: \"))\n",
    "for i in range(0,n):\n",
    "    for j in range(0,n):\n",
    "        print(\"*\" , end = \" \")\n",
    "    print()"
   ]
  },
  {
   "cell_type": "code",
   "execution_count": 2,
   "id": "4a9c743d",
   "metadata": {
    "scrolled": true
   },
   "outputs": [
    {
     "name": "stdout",
     "output_type": "stream",
     "text": [
      "Enter your number: 5\n",
      "1 \n",
      "2 2 \n",
      "3 3 3 \n",
      "4 4 4 4 \n",
      "5 5 5 5 5 \n"
     ]
    }
   ],
   "source": [
    "n=int(input(\"Enter your number: \"))\n",
    "for i in range(1,n+1):\n",
    "    for j in range(1,i+1):\n",
    "        print(i, end =\" \")\n",
    "    print()"
   ]
  },
  {
   "cell_type": "code",
   "execution_count": 17,
   "id": "a5d39c59",
   "metadata": {},
   "outputs": [
    {
     "name": "stdout",
     "output_type": "stream",
     "text": [
      "Enter your number: 5\n",
      "2 \n",
      "3 4 \n",
      "4 5 6 \n",
      "5 6 7 8 \n",
      "6 7 8 9 10 \n"
     ]
    }
   ],
   "source": [
    "n=int(input(\"Enter your number: \"))\n",
    "for i in range(1,n+1):\n",
    "    for j in range(1,i+1):\n",
    "        print(i+j, end =\" \")\n",
    "    print()"
   ]
  },
  {
   "cell_type": "code",
   "execution_count": 20,
   "id": "3f705da0",
   "metadata": {},
   "outputs": [
    {
     "name": "stdout",
     "output_type": "stream",
     "text": [
      "n = 10\n",
      "3025\n"
     ]
    }
   ],
   "source": [
    "n = int(input(\"n = \"))\n",
    "i = 1\n",
    "s = 0\n",
    "while i <= n:\n",
    "    s = s + i ** 3\n",
    "    i=i+1\n",
    "print(s)\n"
   ]
  },
  {
   "cell_type": "code",
   "execution_count": 23,
   "id": "85443aea",
   "metadata": {},
   "outputs": [
    {
     "name": "stdout",
     "output_type": "stream",
     "text": [
      "Enter number: 10\n",
      "1\n",
      "3\n",
      "5\n",
      "7\n",
      "9\n"
     ]
    }
   ],
   "source": [
    "n=int(input(\"Enter number: \"))\n",
    "for i in range(1, n+1, 2):\n",
    "    print(i) \n"
   ]
  },
  {
   "cell_type": "code",
   "execution_count": 45,
   "id": "295776c5",
   "metadata": {},
   "outputs": [
    {
     "name": "stdout",
     "output_type": "stream",
     "text": [
      "enter the number of rows5\n",
      "            1 \n",
      "          1   1 \n",
      "        1   2   1 \n",
      "      1   3   3   1 \n",
      "    1   4   6   4   1 \n"
     ]
    }
   ],
   "source": [
    "num = int(input(\"enter the number of rows\"))\n",
    "for i in range(1, num+1):\n",
    "    for j in range(0, num-i+1):\n",
    "        print(' ', end=' ')\n",
    "    C = 1\n",
    "    for j in range(1, i+1):\n",
    "        print(' ', C, end=' ')\n",
    "        C = C * (i - j) // j\n",
    "    print()"
   ]
  },
  {
   "cell_type": "code",
   "execution_count": 40,
   "id": "0ef0cae9",
   "metadata": {},
   "outputs": [
    {
     "name": "stdout",
     "output_type": "stream",
     "text": [
      "enter the number of rows : 5\n",
      "1 1 1 1 1 \n",
      "2 2 2 2 \n",
      "3 3 3 \n",
      "4 4 \n",
      "5 \n"
     ]
    }
   ],
   "source": [
    "n=int(input(\"enter the number of rows : \"))\n",
    "for i in range(1, n+1):\n",
    "    for j in range(i, n+1):\n",
    "        print(i, end=\" \")\n",
    "    print()"
   ]
  },
  {
   "cell_type": "code",
   "execution_count": 5,
   "id": "6a0844d5",
   "metadata": {},
   "outputs": [
    {
     "name": "stdout",
     "output_type": "stream",
     "text": [
      "Enter the String: \n",
      "apple is a fruit\n",
      "\n",
      "The New String is:\n",
      "Apple Is A Fruit\n"
     ]
    }
   ],
   "source": [
    "print(\"Enter the String: \")\n",
    "text = str(input())\n",
    "text=text.title()\n",
    "print(\"\\nThe New String is:\")\n",
    "print(text)\n"
   ]
  },
  {
   "cell_type": "code",
   "execution_count": 50,
   "id": "07d79798",
   "metadata": {},
   "outputs": [
    {
     "name": "stdout",
     "output_type": "stream",
     "text": [
      "Enter a sentence: stop and smell the roses\n",
      "Stop And Smell The Roses\n"
     ]
    }
   ],
   "source": [
    "x=input(\"Enter a sentence: \")\n",
    "z=x.title()\n",
    "print(z)\n"
   ]
  },
  {
   "cell_type": "code",
   "execution_count": 8,
   "id": "86413a0d",
   "metadata": {},
   "outputs": [
    {
     "name": "stdout",
     "output_type": "stream",
     "text": [
      "4\n",
      "Enter 4 elements\n",
      "1\n",
      "2\n",
      "4\n",
      "8\n",
      "Reversed list: [8, 4, 2, 1]\n"
     ]
    }
   ],
   "source": [
    "mylist = []\n",
    "size = int(input())\n",
    "print('Enter',size,'elements')\n",
    "for i in range(size):\n",
    "    data = int(input())\n",
    "    mylist.append(data)\n",
    "for i in range(size//2):\n",
    "    #swapping elements\n",
    "    mylist[i],mylist[len(mylist)-1-i] = mylist[len(mylist)-1-i], mylist[i]\n",
    "print('Reversed list:', mylist)\n"
   ]
  },
  {
   "cell_type": "code",
   "execution_count": 56,
   "id": "dfd7c558",
   "metadata": {},
   "outputs": [
    {
     "name": "stdout",
     "output_type": "stream",
     "text": [
      "How many elements you want to enter? 5\n",
      "Enter 5 positive numbers\n",
      "48\n",
      "7\n",
      "024\n",
      "36\n",
      "95\n",
      "The largest number in list is 95\n"
     ]
    }
   ],
   "source": [
    "mylist = []\n",
    "size = int(input('How many elements you want to enter? '))\n",
    "print('Enter',str(size),'positive numbers')\n",
    "for i in range(size):\n",
    "    data = int(input())\n",
    "    mylist.append(data)\n",
    "max = 0\n",
    "for data in mylist:\n",
    "    if data > max:\n",
    "        max = data\n",
    "print('The largest number in list is', max)\n"
   ]
  },
  {
   "cell_type": "code",
   "execution_count": 1,
   "id": "168c8a81",
   "metadata": {},
   "outputs": [
    {
     "name": "stdout",
     "output_type": "stream",
     "text": [
      "Matrix: [[2, 11, 7, 12], [5, 2, 9, 15], [8, 3, 10, 42]]\n",
      "Sum of row 1 = 32\n",
      "Sum of row 2 = 31\n",
      "Sum of row 3 = 63\n"
     ]
    }
   ],
   "source": [
    "def sum_of_rows(Matrix):\n",
    "    row_sums = []\n",
    "    row_number = 1\n",
    "    for row in Matrix:\n",
    "        row_sum = sum(row)\n",
    "        row_sums.append(row_sum)\n",
    "        print(f\"Sum of row {row_number} = {row_sum}\")\n",
    "        row_number +=1\n",
    "    return row_sums\n",
    "Matrix = [[2,11,7,12],[5,2,9,15], [8,3,10,42]]\n",
    "print(\"Matrix:\",Matrix)\n",
    "row_sums = sum_of_rows(Matrix)\n"
   ]
  },
  {
   "cell_type": "code",
   "execution_count": null,
   "id": "74dd3de8",
   "metadata": {},
   "outputs": [],
   "source": []
  }
 ],
 "metadata": {
  "kernelspec": {
   "display_name": "Python 3 (ipykernel)",
   "language": "python",
   "name": "python3"
  },
  "language_info": {
   "codemirror_mode": {
    "name": "ipython",
    "version": 3
   },
   "file_extension": ".py",
   "mimetype": "text/x-python",
   "name": "python",
   "nbconvert_exporter": "python",
   "pygments_lexer": "ipython3",
   "version": "3.11.4"
  }
 },
 "nbformat": 4,
 "nbformat_minor": 5
}
