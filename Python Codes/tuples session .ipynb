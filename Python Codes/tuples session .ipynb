{
 "cells": [
  {
   "cell_type": "markdown",
   "id": "cd98c40b",
   "metadata": {},
   "source": [
    "## Tuples \n",
    "## Creating tuples\n",
    "\n",
    "We can create a tuple using the two ways\n",
    "\n",
    "Using parenthesis (): A tuple is created by enclosing comma-separated items inside rounded brackets.\\\n",
    "Using a tuple() constructor: Create a tuple by passing the comma-separated items inside the tuple()."
   ]
  },
  {
   "cell_type": "code",
   "execution_count": 20,
   "id": "544a548c",
   "metadata": {},
   "outputs": [
    {
     "name": "stdout",
     "output_type": "stream",
     "text": [
      "(10, 20, 25.75)\n",
      "('Jessa', 'Emma', 'Kelly')\n",
      "('Jessa', 30, 45.75, [25, 78])\n",
      "('Jessa', 30, 45.75, [23, 78])\n"
     ]
    }
   ],
   "source": [
    "# create a tuple using ()\n",
    "# number tuple\n",
    "number_tuple = (10, 20, 25.75)\n",
    "print(number_tuple)\n",
    "# Output (10, 20, 25.75)\n",
    "\n",
    "# string tuple\n",
    "string_tuple = ('Jessa', 'Emma', 'Kelly')\n",
    "print(string_tuple)\n",
    "# Output ('Jessa', 'Emma', 'Kelly')\n",
    "\n",
    "# mixed type tuple\n",
    "sample_tuple = ('Jessa', 30, 45.75, [25, 78])\n",
    "print(sample_tuple)\n",
    "# Output ('Jessa', 30, 45.75, [25, 78])\n",
    "\n",
    "# create a tuple using tuple() constructor\n",
    "sample_tuple2 = tuple(('Jessa', 30, 45.75, [23, 78]))\n",
    "print(sample_tuple2)\n",
    "# Output ('Jessa', 30, 45.75, [23, 78])"
   ]
  },
  {
   "cell_type": "markdown",
   "id": "6ed9f6f8",
   "metadata": {},
   "source": [
    "## Create a tuple with a single item\n",
    "A single item tuple is created by enclosing one item inside parentheses followed by a comma. If the tuple time is a string enclosed within parentheses and not followed by a comma, Python treats it as a str type. Let us see this with an example."
   ]
  },
  {
   "cell_type": "code",
   "execution_count": 1,
   "id": "dc5a2728",
   "metadata": {},
   "outputs": [
    {
     "name": "stdout",
     "output_type": "stream",
     "text": [
      "<class 'str'>\n",
      "Hello\n",
      "<class 'tuple'>\n",
      "('Hello',)\n"
     ]
    }
   ],
   "source": [
    "# without comma\n",
    "single_tuple = ('Hello')\n",
    "print(type(single_tuple))  \n",
    "# Output class 'str'\n",
    "print(single_tuple)  \n",
    "# Output Hello\n",
    "\n",
    "# with comma\n",
    "single_tuple1 = ('Hello',)  \n",
    "# output class 'tuple'\n",
    "print(type(single_tuple1))  \n",
    "# Output ('Hello',)\n",
    "print(single_tuple1)"
   ]
  },
  {
   "cell_type": "markdown",
   "id": "fa4eea7c",
   "metadata": {},
   "source": [
    "## Length of a Tuple\n",
    "We can find the length of the tuple using the len() function. This will return the number of items in the tuple."
   ]
  },
  {
   "cell_type": "code",
   "execution_count": 3,
   "id": "6ae15208",
   "metadata": {},
   "outputs": [
    {
     "name": "stdout",
     "output_type": "stream",
     "text": [
      "6\n"
     ]
    }
   ],
   "source": [
    "tuple1 = ('P', 'Y', 'T', 'H', 'O', 'N')\n",
    "# length of a tuple\n",
    "print(len(tuple1))  \n",
    "# Output 6"
   ]
  },
  {
   "cell_type": "markdown",
   "id": "78483709",
   "metadata": {},
   "source": [
    "## Iterating a Tuple\n",
    "We can iterate a tuple using a for loop Let us see this with an example."
   ]
  },
  {
   "cell_type": "code",
   "execution_count": 4,
   "id": "c951db97",
   "metadata": {},
   "outputs": [
    {
     "name": "stdout",
     "output_type": "stream",
     "text": [
      "1\n",
      "2\n",
      "3\n",
      "Hello\n",
      "[4, 8, 16]\n"
     ]
    }
   ],
   "source": [
    "# create a tuple\n",
    "sample_tuple = tuple((1, 2, 3, \"Hello\", [4, 8, 16]))\n",
    "# iterate a tuple\n",
    "for item in sample_tuple:\n",
    "    print(item)"
   ]
  },
  {
   "cell_type": "markdown",
   "id": "9ff6e826",
   "metadata": {},
   "source": [
    "## Accessing items of a Tuple\n",
    "Tuple can be accessed through indexing and slicing. This section will guide you by accessing tuple using the following two ways\n",
    "\n",
    "Using indexing, we can access any item from a tuple using its index number\n",
    "Using slicing, we can access a range of items from a tuple\n",
    "## Indexing\n",
    "A tuple is an ordered sequence of items, which means they hold the order of the data insertion. It maintains the index value for each item.\n",
    "\n",
    "We can access an item of a tuple by using its index number inside the index operator [] and this process is called “Indexing”."
   ]
  },
  {
   "cell_type": "code",
   "execution_count": 5,
   "id": "a7e01b47",
   "metadata": {},
   "outputs": [
    {
     "name": "stdout",
     "output_type": "stream",
     "text": [
      "P\n",
      "Y\n",
      "T\n",
      "H\n"
     ]
    }
   ],
   "source": [
    "tuple1 = ('P', 'Y', 'T', 'H', 'O', 'N')\n",
    "for i in range(4):\n",
    "    print(tuple1[i])"
   ]
  },
  {
   "cell_type": "markdown",
   "id": "34af2e40",
   "metadata": {},
   "source": [
    "## Slicing a tuple\n",
    "We can even specify a range of items to be accessed from a tuple using the technique called ‘Slicing.’ The operator used is ':'.\n",
    "\n",
    "We can specify the start and end values for the range of items to be accessed from the tuple. The output will be a tuple, and it includes the range of items with the index values from the start till the end of the range. The end value item will be excluded.\n",
    "\n",
    "We should keep in mind that the index value always starts with a 0.\n",
    "\n",
    "For easy understanding, we will be using an integer tuple with values from 0 to 9 similar to how an index value is assigned."
   ]
  },
  {
   "cell_type": "code",
   "execution_count": 6,
   "id": "b0aa0fd3",
   "metadata": {},
   "outputs": [
    {
     "name": "stdout",
     "output_type": "stream",
     "text": [
      "(1, 2, 3, 4)\n"
     ]
    }
   ],
   "source": [
    "tuple1 = (0, 1, 2, 3, 4, 5, 6, 7, 8, 9, 10)\n",
    "\n",
    "# slice a tuple with start and end index number\n",
    "print(tuple1[1:5])\n",
    "# Output (1, 2, 3, 4)"
   ]
  },
  {
   "cell_type": "code",
   "execution_count": 7,
   "id": "506f1508",
   "metadata": {},
   "outputs": [
    {
     "name": "stdout",
     "output_type": "stream",
     "text": [
      "(0, 1, 2, 3, 4)\n",
      "(6, 7, 8, 9, 10)\n"
     ]
    }
   ],
   "source": [
    "tuple1 = (0, 1, 2, 3, 4, 5, 6, 7, 8, 9, 10)\n",
    "\n",
    "# slice a tuple without start index\n",
    "print(tuple1[:5])\n",
    "# Output (0, 1, 2, 3, 4)\n",
    "\n",
    "# slice a tuple without end index\n",
    "print(tuple1[6:])\n",
    "# Output (6, 7, 8, 9, 10)"
   ]
  },
  {
   "cell_type": "markdown",
   "id": "f77c43d4",
   "metadata": {},
   "source": [
    "## Finding an item in a Tuple\n",
    "We can search for a certain item in a tuple using the index() method and it will return the position of that particular item in the tuple.\n",
    "\n",
    "The index() method accepts the following three arguments\n",
    "\n",
    "item – The item which needs to be searched\\\n",
    "start – (Optional) The starting value of the index from which the search will start\\\n",
    "end – (Optional) The end value of the index search"
   ]
  },
  {
   "cell_type": "code",
   "execution_count": 8,
   "id": "50cd8947",
   "metadata": {},
   "outputs": [
    {
     "name": "stdout",
     "output_type": "stream",
     "text": [
      "2\n"
     ]
    }
   ],
   "source": [
    "tuple1 = (10, 20, 30, 40, 50)\n",
    "\n",
    "# get index of item 30\n",
    "position = tuple1.index(30)\n",
    "print(position)\n",
    "# Output 2"
   ]
  },
  {
   "cell_type": "markdown",
   "id": "05293d50",
   "metadata": {},
   "source": [
    "## Find within a range\n",
    "\n",
    "We can mention the start and end values for the index() method so that our search will be limited to those values.\n",
    "\n",
    "Example\n",
    "\n"
   ]
  },
  {
   "cell_type": "code",
   "execution_count": 3,
   "id": "766f6995",
   "metadata": {},
   "outputs": [
    {
     "name": "stdout",
     "output_type": "stream",
     "text": [
      "5\n"
     ]
    }
   ],
   "source": [
    "tuple1 = (10, 20, 30, 40, 50, 60, 70, 80)\n",
    "# Limit the search locations using start and end\n",
    "# search only from location 4 to 6\n",
    "# start = 4 and end = 6\n",
    "# get index of item 60\n",
    "position = tuple1.index(60,4,6)\n",
    "print(position)  \n",
    "# Output 5"
   ]
  },
  {
   "cell_type": "code",
   "execution_count": 9,
   "id": "69e25bc6",
   "metadata": {},
   "outputs": [
    {
     "ename": "ValueError",
     "evalue": "tuple.index(x): x not in tuple",
     "output_type": "error",
     "traceback": [
      "\u001b[1;31m---------------------------------------------------------------------------\u001b[0m",
      "\u001b[1;31mValueError\u001b[0m                                Traceback (most recent call last)",
      "Cell \u001b[1;32mIn[9], line 3\u001b[0m\n\u001b[0;32m      1\u001b[0m tupl \u001b[38;5;241m=\u001b[39m (\u001b[38;5;241m10\u001b[39m, \u001b[38;5;241m20\u001b[39m, \u001b[38;5;241m30\u001b[39m, \u001b[38;5;241m40\u001b[39m, \u001b[38;5;241m50\u001b[39m, \u001b[38;5;241m60\u001b[39m, \u001b[38;5;241m70\u001b[39m, \u001b[38;5;241m80\u001b[39m)\n\u001b[0;32m      2\u001b[0m \u001b[38;5;66;03m#index out of range\u001b[39;00m\n\u001b[1;32m----> 3\u001b[0m position\u001b[38;5;241m=\u001b[39m tupl\u001b[38;5;241m.\u001b[39mindex(\u001b[38;5;241m50\u001b[39m,\u001b[38;5;241m10\u001b[39m,\u001b[38;5;241m20\u001b[39m)\n\u001b[0;32m      4\u001b[0m \u001b[38;5;28mprint\u001b[39m(position)\n",
      "\u001b[1;31mValueError\u001b[0m: tuple.index(x): x not in tuple"
     ]
    }
   ],
   "source": [
    "tupl = (10, 20, 30, 40, 50, 60, 70, 80)\n",
    "#index out of range\n",
    "position= tupl.index(50,10,20)\n",
    "print(position)"
   ]
  },
  {
   "cell_type": "markdown",
   "id": "46fc7eb3",
   "metadata": {},
   "source": [
    "## Checking if an item exists\n",
    "We can check whether an item exists in a tuple by using the in operator. This will return a boolean True if the item exists and False if it doesn’t."
   ]
  },
  {
   "cell_type": "code",
   "execution_count": 14,
   "id": "03239f41",
   "metadata": {},
   "outputs": [
    {
     "name": "stdout",
     "output_type": "stream",
     "text": [
      "True\n",
      "False\n"
     ]
    }
   ],
   "source": [
    "tuple1 = (10, 20, 30, 40, 50, 60, 70, 80)\n",
    "# checking whether item 50 exists in tuple\n",
    "print(50 in tuple1)\n",
    "# Output True\n",
    "print(500 in tuple1)\n",
    "# Output False"
   ]
  },
  {
   "cell_type": "markdown",
   "id": "81709eae",
   "metadata": {},
   "source": [
    "## Adding and changing items in a Tuple\n",
    "A list is a mutable type, which means we can add or modify values in it, but tuples are immutable, so they cannot be changed.\n",
    "\n",
    "Also, because a tuple is immutable there are no built-in methods to add items to the tuple."
   ]
  },
  {
   "cell_type": "code",
   "execution_count": 15,
   "id": "de28ccfd",
   "metadata": {},
   "outputs": [
    {
     "ename": "TypeError",
     "evalue": "'tuple' object does not support item assignment",
     "output_type": "error",
     "traceback": [
      "\u001b[1;31m---------------------------------------------------------------------------\u001b[0m",
      "\u001b[1;31mTypeError\u001b[0m                                 Traceback (most recent call last)",
      "Cell \u001b[1;32mIn[15], line 2\u001b[0m\n\u001b[0;32m      1\u001b[0m tuple1 \u001b[38;5;241m=\u001b[39m (\u001b[38;5;241m0\u001b[39m, \u001b[38;5;241m1\u001b[39m, \u001b[38;5;241m2\u001b[39m, \u001b[38;5;241m3\u001b[39m, \u001b[38;5;241m4\u001b[39m, \u001b[38;5;241m5\u001b[39m)\n\u001b[1;32m----> 2\u001b[0m tuple1[\u001b[38;5;241m1\u001b[39m]\u001b[38;5;241m=\u001b[39m \u001b[38;5;241m10\u001b[39m\n",
      "\u001b[1;31mTypeError\u001b[0m: 'tuple' object does not support item assignment"
     ]
    }
   ],
   "source": [
    "tuple1 = (0, 1, 2, 3, 4, 5)\n",
    "tuple1[1]= 10"
   ]
  },
  {
   "cell_type": "code",
   "execution_count": 19,
   "id": "3e9ea15a",
   "metadata": {},
   "outputs": [
    {
     "name": "stdout",
     "output_type": "stream",
     "text": [
      "(0, 1, 2, 3, 4, 5)\n",
      "[0, 1, 2, 3, 4, 5, 6]\n",
      "(0, 1, 2, 3, 4, 5, 6)\n"
     ]
    }
   ],
   "source": [
    "tuple1 = (0, 1, 2, 3, 4, 5)\n",
    "\n",
    "# converting tuple into a list\n",
    "sample_list = list(tuple1)\n",
    "# add item to list\n",
    "sample_list.append(6)\n",
    "print(tuple1)\n",
    "print(sample_list)\n",
    "# converting list back into a tuple\n",
    "tuple1 = tuple(sample_list)\n",
    "print(tuple1)  \n",
    "# Output (0, 1, 2, 3, 4, 5, 6)"
   ]
  },
  {
   "cell_type": "markdown",
   "id": "d3b192ab",
   "metadata": {},
   "source": [
    "## Modify nested items of a tuple\n",
    "One thing to remember here, If one of the items is itself a mutable data type as a list, then we can change its values in the case of a nested tuple."
   ]
  },
  {
   "cell_type": "code",
   "execution_count": 20,
   "id": "3ae14953",
   "metadata": {},
   "outputs": [
    {
     "name": "stdout",
     "output_type": "stream",
     "text": [
      "(10, 20, [25, 75, 85])\n",
      "75\n",
      "(10, 20, [250, 75, 85])\n"
     ]
    }
   ],
   "source": [
    "tuple1 = (10, 20, [25, 75, 85])\n",
    "# before update\n",
    "print(tuple1)\n",
    "# Output (10, 20, [25, 75, 85])\n",
    "print (tuple1[2][1])\n",
    "# modify last item's first value\n",
    "tuple1[2][0] = 250\n",
    "# after update\n",
    "print(tuple1)\n",
    "# Output (10, 20, [250, 75, 85])"
   ]
  },
  {
   "cell_type": "markdown",
   "id": "8b1ddc05",
   "metadata": {},
   "source": [
    "## Removing items from a tuple\n",
    "Tuples are immutable so there are no pop() or remove() methods for the tuple. We can remove the items from a tuple using the following two ways.\n",
    "\n",
    "Using del keyword\n",
    "\n",
    "The del keyword will delete the entire tuple."
   ]
  },
  {
   "cell_type": "code",
   "execution_count": 17,
   "id": "ab84aa55",
   "metadata": {},
   "outputs": [
    {
     "ename": "NameError",
     "evalue": "name 'sampletup1' is not defined",
     "output_type": "error",
     "traceback": [
      "\u001b[1;31m---------------------------------------------------------------------------\u001b[0m",
      "\u001b[1;31mNameError\u001b[0m                                 Traceback (most recent call last)",
      "Cell \u001b[1;32mIn[17], line 4\u001b[0m\n\u001b[0;32m      1\u001b[0m sampletup1 \u001b[38;5;241m=\u001b[39m(\u001b[38;5;241m0\u001b[39m,\u001b[38;5;241m1\u001b[39m,\u001b[38;5;241m2\u001b[39m,\u001b[38;5;241m3\u001b[39m,\u001b[38;5;241m4\u001b[39m,\u001b[38;5;241m5\u001b[39m,\u001b[38;5;241m6\u001b[39m,\u001b[38;5;241m7\u001b[39m,\u001b[38;5;241m8\u001b[39m,\u001b[38;5;241m9\u001b[39m,\u001b[38;5;241m10\u001b[39m)\n\u001b[0;32m      2\u001b[0m \u001b[38;5;28;01mdel\u001b[39;00m sampletup1\n\u001b[1;32m----> 4\u001b[0m \u001b[38;5;28mprint\u001b[39m(\u001b[43msampletup1\u001b[49m)\n",
      "\u001b[1;31mNameError\u001b[0m: name 'sampletup1' is not defined"
     ]
    }
   ],
   "source": [
    "sampletup1 =(0,1,2,3,4,5,6,7,8,9,10)\n",
    "del sampletup1\n",
    "\n",
    "print(sampletup1)"
   ]
  },
  {
   "cell_type": "markdown",
   "id": "f3d42799",
   "metadata": {},
   "source": [
    "## Copying a tuple\n",
    "We can create a copy of a tuple using the assignment operator '=' . This operation will create only a reference copy and not a deep copy because tuples are immutable."
   ]
  },
  {
   "cell_type": "code",
   "execution_count": 18,
   "id": "db25763d",
   "metadata": {},
   "outputs": [
    {
     "name": "stdout",
     "output_type": "stream",
     "text": [
      "(0, 1, 2, 3, 4, 5)\n",
      "(0, 1, 2, 3, 4, 5)\n",
      "(0, 1, 2, 3, 4, 5, 6)\n"
     ]
    }
   ],
   "source": [
    "tuple1 = (0, 1, 2, 3, 4, 5)\n",
    "\n",
    "# copy tuple\n",
    "tuple2 = tuple1\n",
    "print(tuple2)\n",
    "# Output (0, 1, 2, 3, 4, 5)\n",
    "\n",
    "# changing tuple2\n",
    "# converting it into a list\n",
    "sample_list = list(tuple2)\n",
    "sample_list.append(6)\n",
    "\n",
    "# converting list back into a tuple2\n",
    "tuple2 = tuple(sample_list)\n",
    "\n",
    "# printing the two tuples\n",
    "print(tuple1)\n",
    "# Output (0, 1, 2, 3, 4, 5)\n",
    "print(tuple2)\n",
    "# Output (0, 1, 2, 3, 4, 5, 6)"
   ]
  },
  {
   "cell_type": "markdown",
   "id": "77a66ee8",
   "metadata": {},
   "source": [
    "## Concatenating two Tuples\n",
    "We can concatenate two or more tuples in different ways. One thing to note here is that tuples allow duplicates, so if two tuples have the same item, it will be repeated twice in the resultant tuple. Let us see each one of them with a small example.\n",
    "\n",
    "## Using the + operator\n",
    "We can add two tuples using the + operator. This is a very and straightforward method and the resultant tuple will have items from both the tuples."
   ]
  },
  {
   "cell_type": "code",
   "execution_count": 19,
   "id": "e49f5adc",
   "metadata": {},
   "outputs": [
    {
     "name": "stdout",
     "output_type": "stream",
     "text": [
      "(1, 2, 3, 4, 5, 3, 4, 5, 6, 7)\n"
     ]
    }
   ],
   "source": [
    "tuple1 = (1, 2, 3, 4, 5)\n",
    "tuple2 = (3, 4, 5, 6, 7)\n",
    "\n",
    "# concatenate tuples using + operator\n",
    "tuple3 = tuple1 + tuple2\n",
    "print(tuple3)\n",
    "# Output (1, 2, 3, 4, 5, 3, 4, 5, 6, 7)"
   ]
  },
  {
   "cell_type": "code",
   "execution_count": null,
   "id": "b6f8f95b",
   "metadata": {},
   "outputs": [],
   "source": []
  }
 ],
 "metadata": {
  "kernelspec": {
   "display_name": "Python 3 (ipykernel)",
   "language": "python",
   "name": "python3"
  },
  "language_info": {
   "codemirror_mode": {
    "name": "ipython",
    "version": 3
   },
   "file_extension": ".py",
   "mimetype": "text/x-python",
   "name": "python",
   "nbconvert_exporter": "python",
   "pygments_lexer": "ipython3",
   "version": "3.11.4"
  }
 },
 "nbformat": 4,
 "nbformat_minor": 5
}
