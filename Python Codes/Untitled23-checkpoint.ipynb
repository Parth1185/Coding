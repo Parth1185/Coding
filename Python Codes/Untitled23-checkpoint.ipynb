{
 "cells": [
  {
   "cell_type": "code",
   "execution_count": 1,
   "id": "7a7eecac",
   "metadata": {},
   "outputs": [
    {
     "name": "stdout",
     "output_type": "stream",
     "text": [
      "5\n",
      "    *\n",
      "   **\n",
      "  ***\n",
      " ****\n",
      "*****\n"
     ]
    }
   ],
   "source": [
    "n=int(input())\n",
    "i=1\n",
    "while i<=n:\n",
    "    spaces=1\n",
    "    while spaces<=n-i:\n",
    "        print(' ', end = '')\n",
    "        spaces=spaces+1\n",
    "    p=1\n",
    "    j=1\n",
    "    while j<=i:\n",
    "        print('*', end='')\n",
    "        j=j+1\n",
    "        p=p+1\n",
    "    print()\n",
    "    i=i+1"
   ]
  },
  {
   "cell_type": "code",
   "execution_count": 2,
   "id": "85492563",
   "metadata": {},
   "outputs": [
    {
     "name": "stdout",
     "output_type": "stream",
     "text": [
      "5\n",
      "    1\n",
      "   121\n",
      "  12321\n",
      " 1234321\n",
      "123454321\n"
     ]
    }
   ],
   "source": [
    "n=int(input())\n",
    "i=1\n",
    "while i<=n:\n",
    "    spaces=1\n",
    "    while spaces<=n-i:\n",
    "        print(' ', end = '')\n",
    "        spaces=spaces+1\n",
    "    p=1\n",
    "    j=1\n",
    "    while j<=i:\n",
    "        print(p, end='')\n",
    "        j=j+1\n",
    "        p=p+1\n",
    "    p=i-1\n",
    "    while p>=1:\n",
    "        print(p, end ='')\n",
    "        p = p-1\n",
    "    print()\n",
    "    i=i+1"
   ]
  },
  {
   "cell_type": "code",
   "execution_count": 3,
   "id": "ed1e39f9",
   "metadata": {},
   "outputs": [
    {
     "name": "stdout",
     "output_type": "stream",
     "text": [
      "5\n",
      "    1\n",
      "   232\n",
      "  34543\n",
      " 4567654\n",
      "567898765\n"
     ]
    }
   ],
   "source": [
    "n= int(input())\n",
    "i=1\n",
    "while i<=n:\n",
    "    s=1\n",
    "    while s<=n-i:\n",
    "        print(' ',end='')\n",
    "        s=s+1\n",
    "    num=1\n",
    "    p=i\n",
    "    while num<=i:\n",
    "        print(p,end='')\n",
    "        num=num+1\n",
    "        p=p+1\n",
    "    p=i-1\n",
    "    \n",
    "    while p>=1:\n",
    "        print(p+i-1,end='')\n",
    "        p=p-1\n",
    "    print()\n",
    "    i=i+1\n",
    "    "
   ]
  },
  {
   "cell_type": "code",
   "execution_count": 4,
   "id": "21fbfb77",
   "metadata": {},
   "outputs": [
    {
     "name": "stdout",
     "output_type": "stream",
     "text": [
      "5\n",
      "55555\n",
      "4444\n",
      "333\n",
      "22\n",
      "1\n"
     ]
    }
   ],
   "source": [
    "n=int(input())\n",
    "i = 1\n",
    "while i<=n:\n",
    "    j=1\n",
    "    while j<= n-i+1:\n",
    "        print(n-i+1, end='')\n",
    "        j=j+1\n",
    "    \n",
    "    print()\n",
    "    i=i+1"
   ]
  },
  {
   "cell_type": "code",
   "execution_count": 13,
   "id": "a71a8676",
   "metadata": {},
   "outputs": [
    {
     "name": "stdout",
     "output_type": "stream",
     "text": [
      "4589\n",
      "9854\n"
     ]
    }
   ],
   "source": [
    "n=int(input())\n",
    "rev=0\n",
    "while n>0:\n",
    "    i=n%10\n",
    "    rev= rev*10+i\n",
    "    n=n//10\n",
    "print(rev)"
   ]
  },
  {
   "cell_type": "code",
   "execution_count": 12,
   "id": "321fb3be",
   "metadata": {},
   "outputs": [
    {
     "name": "stdout",
     "output_type": "stream",
     "text": [
      "4\n",
      "6\n",
      "3\n",
      "2.0\n"
     ]
    }
   ],
   "source": []
  },
  {
   "cell_type": "code",
   "execution_count": null,
   "id": "20cd11c2",
   "metadata": {},
   "outputs": [],
   "source": []
  },
  {
   "cell_type": "code",
   "execution_count": null,
   "id": "7187068b",
   "metadata": {},
   "outputs": [],
   "source": []
  }
 ],
 "metadata": {
  "kernelspec": {
   "display_name": "Python 3 (ipykernel)",
   "language": "python",
   "name": "python3"
  },
  "language_info": {
   "codemirror_mode": {
    "name": "ipython",
    "version": 3
   },
   "file_extension": ".py",
   "mimetype": "text/x-python",
   "name": "python",
   "nbconvert_exporter": "python",
   "pygments_lexer": "ipython3",
   "version": "3.11.4"
  }
 },
 "nbformat": 4,
 "nbformat_minor": 5
}
