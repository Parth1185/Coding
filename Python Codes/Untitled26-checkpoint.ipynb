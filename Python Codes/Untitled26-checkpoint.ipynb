{
 "cells": [
  {
   "cell_type": "code",
   "execution_count": 1,
   "id": "ef4c6a2b",
   "metadata": {},
   "outputs": [
    {
     "name": "stdout",
     "output_type": "stream",
     "text": [
      "10\n",
      "         1\n",
      "        212\n",
      "       32123\n",
      "      4321234\n",
      "     543212345\n",
      "    65432123456\n",
      "   7654321234567\n",
      "  876543212345678\n",
      " 98765432123456789\n",
      "109876543212345678910\n"
     ]
    }
   ],
   "source": [
    "n=int(input())\n",
    "i=1\n",
    "while i<=n:\n",
    "    s=1\n",
    "    while s<=n-i:\n",
    "        print(' ',end='')\n",
    "        s=s+1\n",
    "    p=i\n",
    "    j=1\n",
    "    while j<=i:\n",
    "        print(p, end='')\n",
    "        p=p-1\n",
    "        j=j+1\n",
    "    p=2\n",
    "    while p<=i:\n",
    "        print(p, end='')\n",
    "        p=p+1\n",
    "    print()\n",
    "    i=i+1"
   ]
  },
  {
   "cell_type": "code",
   "execution_count": 2,
   "id": "41242a7a",
   "metadata": {},
   "outputs": [
    {
     "name": "stdout",
     "output_type": "stream",
     "text": [
      "10\n",
      "         1\n",
      "        232\n",
      "       34543\n",
      "      4567654\n",
      "     567898765\n",
      "    67891011109876\n",
      "   78910111213121110987\n",
      "  89101112131415141312111098\n",
      " 91011121314151617161514131211109\n",
      "10111213141516171819181716151413121110\n"
     ]
    }
   ],
   "source": [
    "n=int(input())\n",
    "for i in range(1,n+1,1):\n",
    "    for s in range(n-i):\n",
    "        print(\" \", end='')\n",
    "    for j in range(i,2*i,1):\n",
    "        print(j, end=\"\")\n",
    "    for j in range(2*i-2,i-1,-1):\n",
    "        print(j, end=\"\")\n",
    "    print()"
   ]
  },
  {
   "cell_type": "code",
   "execution_count": 3,
   "id": "aec842f0",
   "metadata": {},
   "outputs": [
    {
     "name": "stdout",
     "output_type": "stream",
     "text": [
      "10\n",
      "* \n",
      " * * \n",
      "  * * * \n",
      "   * * * * \n",
      "    * * * * * \n",
      "     * * * * * * \n",
      "    * * * * * \n",
      "   * * * * \n",
      "  * * * \n",
      " * * \n",
      "* \n"
     ]
    }
   ],
   "source": [
    "n = int(input())\n",
    "m = n // 2 + 1\n",
    "i = 1\n",
    "\n",
    "while i <= m:\n",
    "    sp = 1\n",
    "    while sp < i:\n",
    "        print(\" \", end = \"\")\n",
    "        sp+=1\n",
    "        \n",
    "    j = i\n",
    "    c = 1\n",
    "    while j >= i and c <= i:\n",
    "        print(\"* \",end = \"\")\n",
    "        j+=2\n",
    "        c+=1\n",
    "        \n",
    "    print()\n",
    "    i+=1\n",
    "   \n",
    "i = m - 1   \n",
    "while i >= 1: \n",
    "    sp = 1\n",
    "    while sp < i:\n",
    "            print(\" \", end = \"\")\n",
    "            sp+=1\n",
    "            \n",
    "    j = i\n",
    "    c = 1\n",
    "    while j >= 1 and c <= i:\n",
    "        print(\"* \",end = \"\")\n",
    "        j+=2\n",
    "        c+=1\n",
    "    print()\n",
    "    i-=1"
   ]
  },
  {
   "cell_type": "code",
   "execution_count": 4,
   "id": "963fd0fb",
   "metadata": {},
   "outputs": [
    {
     "name": "stdout",
     "output_type": "stream",
     "text": [
      "10\n",
      "*000000000*000000000*\n",
      "0*00000000*00000000*0\n",
      "00*0000000*0000000*00\n",
      "000*000000*000000*000\n",
      "0000*00000*00000*0000\n",
      "00000*0000*0000*00000\n",
      "000000*000*000*000000\n",
      "0000000*00*00*0000000\n",
      "00000000*0*0*00000000\n",
      "000000000***000000000\n"
     ]
    }
   ],
   "source": [
    "n=int(input())\n",
    "a=2*n+1\n",
    "i=1\n",
    "while i<=n:\n",
    "    j=1\n",
    "    while j<=a:\n",
    "        if(j==i or j==(a//2+1) or j==a-i+1):\n",
    "            print(\"*\", end='')\n",
    "        else:\n",
    "            print(\"0\",end='')\n",
    "        j=j+1\n",
    "    print()\n",
    "    i=i+1"
   ]
  },
  {
   "cell_type": "code",
   "execution_count": 7,
   "id": "e587ad30",
   "metadata": {},
   "outputs": [
    {
     "name": "stdout",
     "output_type": "stream",
     "text": [
      "15\n",
      "2\n",
      "3\n",
      "5\n",
      "7\n",
      "11\n",
      "13\n"
     ]
    }
   ],
   "source": [
    "n = int(input())\n",
    "k = 2\n",
    "while k<=n:\n",
    "    d=2\n",
    "    flag= False\n",
    "    while d<k:\n",
    "        if k%d==0:\n",
    "            flag=True\n",
    "            break\n",
    "        d=d+1\n",
    "    if (not(flag)):\n",
    "        print(k)\n",
    "    k=k+1\n",
    "        "
   ]
  },
  {
   "cell_type": "code",
   "execution_count": 11,
   "id": "a9ca5196",
   "metadata": {},
   "outputs": [
    {
     "name": "stdout",
     "output_type": "stream",
     "text": [
      "1 2 "
     ]
    }
   ],
   "source": [
    "i=1\n",
    "while i<5:\n",
    "    if i == 3:\n",
    "        break\n",
    "    print(i, end=\" \")\n",
    "    i = i + 1\n",
    "else:\n",
    "    print(\"Else is also printed\")"
   ]
  },
  {
   "cell_type": "code",
   "execution_count": null,
   "id": "94b58943",
   "metadata": {},
   "outputs": [
    {
     "name": "stdout",
     "output_type": "stream",
     "text": [
      "1 2 "
     ]
    }
   ],
   "source": [
    "i=1\n",
    "while i<5:\n",
    "    if i==3:\n",
    "            continue\n",
    "    print(i,end=\" \")\n",
    "    i = i + 1"
   ]
  },
  {
   "cell_type": "code",
   "execution_count": 1,
   "id": "a4643f3c",
   "metadata": {},
   "outputs": [
    {
     "name": "stdout",
     "output_type": "stream",
     "text": [
      "5\n",
      "1\n",
      "2\n",
      "3\n",
      "4\n",
      "5\n"
     ]
    }
   ],
   "source": [
    "n = int(input())\n",
    "count = 1\n",
    "while count <= n:\n",
    "    print(count)\n",
    "    count = count + 1"
   ]
  },
  {
   "cell_type": "code",
   "execution_count": null,
   "id": "f2229ac0",
   "metadata": {},
   "outputs": [],
   "source": []
  }
 ],
 "metadata": {
  "kernelspec": {
   "display_name": "Python 3 (ipykernel)",
   "language": "python",
   "name": "python3"
  },
  "language_info": {
   "codemirror_mode": {
    "name": "ipython",
    "version": 3
   },
   "file_extension": ".py",
   "mimetype": "text/x-python",
   "name": "python",
   "nbconvert_exporter": "python",
   "pygments_lexer": "ipython3",
   "version": "3.11.4"
  }
 },
 "nbformat": 4,
 "nbformat_minor": 5
}
