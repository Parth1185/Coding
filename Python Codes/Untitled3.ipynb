{
 "cells": [
  {
   "cell_type": "code",
   "execution_count": 1,
   "id": "6da6af56",
   "metadata": {},
   "outputs": [
    {
     "name": "stdout",
     "output_type": "stream",
     "text": [
      "5\n"
     ]
    }
   ],
   "source": [
    "a=10\n",
    "id1 = id(a)\n",
    "b=10+2-2\n",
    "id2 = id(b)\n",
    "if id1==id2 :\n",
    " print (\"5\") \n",
    "else:\n",
    " print(6)"
   ]
  },
  {
   "cell_type": "code",
   "execution_count": 2,
   "id": "e8cea5ef",
   "metadata": {},
   "outputs": [
    {
     "name": "stdout",
     "output_type": "stream",
     "text": [
      "140729844863912\n",
      "140729844863944\n"
     ]
    }
   ],
   "source": [
    "a=5\n",
    "b=6\n",
    "print(id(a))\n",
    "\n",
    "print(id(b))"
   ]
  },
  {
   "cell_type": "code",
   "execution_count": 3,
   "id": "acae6362",
   "metadata": {},
   "outputs": [
    {
     "name": "stdout",
     "output_type": "stream",
     "text": [
      "{'name': 'Kartik', 'age': 18, 'height': 60, 'city': 'Mumbai'}\n",
      "Kartik\n",
      "18\n",
      "dict_keys(['name', 'age', 'height', 'city'])\n",
      "dict_values(['Kartik', 18, 60, 'Mumbai'])\n",
      "dict_items([('name', 'Kartik'), ('age', 18), ('height', 60), ('city', 'Mumbai')])\n",
      "<class 'dict_keys'>\n",
      "<class 'dict_values'>\n",
      "<class 'dict_items'>\n"
     ]
    }
   ],
   "source": [
    "info={'name':\"Kartik\", 'age':18, 'height': 60, 'city':'Mumbai'}\n",
    "print(info)\n",
    "print(info['name'])\n",
    "print(info.get('age'))\n",
    "print(info.keys())\n",
    "print(info.values())\n",
    "print(info.items())\n",
    "print(type(info.keys()))\n",
    "print(type(info.values()))\n",
    "print(type(info.items()))"
   ]
  },
  {
   "cell_type": "code",
   "execution_count": 4,
   "id": "c6322f21",
   "metadata": {},
   "outputs": [
    {
     "name": "stdout",
     "output_type": "stream",
     "text": [
      "5\n",
      "13\n"
     ]
    },
    {
     "data": {
      "text/plain": [
       "10"
      ]
     },
     "execution_count": 4,
     "metadata": {},
     "output_type": "execute_result"
    }
   ],
   "source": [
    "a=int(input())\n",
    "if a==a*2:\n",
    "    print(a)\n",
    "else:\n",
    "    print(a+8)\n",
    "a+5"
   ]
  },
  {
   "cell_type": "code",
   "execution_count": 5,
   "id": "27d321ff",
   "metadata": {},
   "outputs": [
    {
     "name": "stdout",
     "output_type": "stream",
     "text": [
      "5\n",
      "1 4 5 0 3\n",
      "13\n"
     ]
    }
   ],
   "source": [
    "n=int(input())\n",
    "li=[int(x) for x in input().split()]\n",
    "sum=0\n",
    "for i in range(n):\n",
    "    sum=sum+li[i]\n",
    "print(sum)"
   ]
  },
  {
   "cell_type": "code",
   "execution_count": 6,
   "id": "3a55fe45",
   "metadata": {},
   "outputs": [
    {
     "name": "stdout",
     "output_type": "stream",
     "text": [
      "5\n",
      "1  4 5 0 3\n",
      "[1, 4, 5, 0, 3]\n"
     ]
    }
   ],
   "source": [
    "n=int(input())\n",
    "li= [int (x) for x in input().split()]\n",
    "print(li)"
   ]
  },
  {
   "cell_type": "code",
   "execution_count": null,
   "id": "4fa83e59",
   "metadata": {},
   "outputs": [],
   "source": [
    "ele=int(input())\n",
    "for i in range(len(li)):\n",
    "    if li[i]==ele:\n",
    "        print(\"Yes \" , ele)\n",
    "        break\n",
    "else:\n",
    "    print(\"Not Found\")"
   ]
  },
  {
   "cell_type": "code",
   "execution_count": null,
   "id": "04236a70",
   "metadata": {},
   "outputs": [],
   "source": [
    "def ls(list,ele):\n",
    "    for i in range(len(list)):\n",
    "        if li[i]==ele:\n",
    "            print(\"Yes\")\n",
    "            break\n",
    "list=[1,2,3,4,5]\n",
    "index=ls(list,3)\n",
    "print(index)"
   ]
  },
  {
   "cell_type": "code",
   "execution_count": null,
   "id": "51e13abc",
   "metadata": {},
   "outputs": [],
   "source": [
    "def rev(li):\n",
    "    l=len(li)\n",
    "    for i in range(l//2):\n",
    "        li[i],li[l-i-1]=li[l-i-1],li[i]\n",
    "li=[5,7,9,11,3,1]\n",
    "rev(li)\n",
    "print(li)"
   ]
  },
  {
   "cell_type": "code",
   "execution_count": null,
   "id": "14e00b52",
   "metadata": {},
   "outputs": [],
   "source": [
    "d2={i.upper :i*3 for i in 'abc'}"
   ]
  },
  {
   "cell_type": "code",
   "execution_count": null,
   "id": "20c02b86",
   "metadata": {},
   "outputs": [],
   "source": [
    "print(d2)"
   ]
  },
  {
   "cell_type": "code",
   "execution_count": null,
   "id": "d5d4a078",
   "metadata": {},
   "outputs": [],
   "source": [
    "def gm(name):\n",
    "    print(\"Good Morning \" + name)\n"
   ]
  },
  {
   "cell_type": "code",
   "execution_count": null,
   "id": "b0b73d91",
   "metadata": {},
   "outputs": [],
   "source": [
    "print(gm(\"Parth\"))\n",
    "print(gm(\"Apple\"))"
   ]
  },
  {
   "cell_type": "code",
   "execution_count": null,
   "id": "4c2431a5",
   "metadata": {},
   "outputs": [],
   "source": []
  }
 ],
 "metadata": {
  "kernelspec": {
   "display_name": "Python 3 (ipykernel)",
   "language": "python",
   "name": "python3"
  },
  "language_info": {
   "codemirror_mode": {
    "name": "ipython",
    "version": 3
   },
   "file_extension": ".py",
   "mimetype": "text/x-python",
   "name": "python",
   "nbconvert_exporter": "python",
   "pygments_lexer": "ipython3",
   "version": "3.11.4"
  }
 },
 "nbformat": 4,
 "nbformat_minor": 5
}
