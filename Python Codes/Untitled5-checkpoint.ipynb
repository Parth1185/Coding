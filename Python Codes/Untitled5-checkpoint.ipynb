{
 "cells": [
  {
   "cell_type": "code",
   "execution_count": 1,
   "id": "8609c879",
   "metadata": {},
   "outputs": [],
   "source": [
    "f=open(\"practice.txt\",\"w\")"
   ]
  },
  {
   "cell_type": "code",
   "execution_count": 2,
   "id": "eb68d30d",
   "metadata": {},
   "outputs": [
    {
     "data": {
      "text/plain": [
       "29"
      ]
     },
     "execution_count": 2,
     "metadata": {},
     "output_type": "execute_result"
    }
   ],
   "source": [
    "f.write(\"12054 refers to ASR-HW JS Exp\")"
   ]
  },
  {
   "cell_type": "code",
   "execution_count": 3,
   "id": "e8831248",
   "metadata": {},
   "outputs": [],
   "source": [
    "f.close()"
   ]
  },
  {
   "cell_type": "code",
   "execution_count": 15,
   "id": "360e84ca",
   "metadata": {},
   "outputs": [],
   "source": [
    "f=open(\"practice.txt\",\"r\")"
   ]
  },
  {
   "cell_type": "code",
   "execution_count": 16,
   "id": "fe85e3b6",
   "metadata": {},
   "outputs": [
    {
     "data": {
      "text/plain": [
       "'12054 refers to ASR-HW JS Express'"
      ]
     },
     "execution_count": 16,
     "metadata": {},
     "output_type": "execute_result"
    }
   ],
   "source": [
    "f.read()"
   ]
  },
  {
   "cell_type": "code",
   "execution_count": 31,
   "id": "2de87531",
   "metadata": {},
   "outputs": [],
   "source": [
    "f=open(\"practice.txt\",\"w\")"
   ]
  },
  {
   "cell_type": "code",
   "execution_count": 32,
   "id": "989f026b",
   "metadata": {},
   "outputs": [
    {
     "data": {
      "text/plain": [
       "20"
      ]
     },
     "execution_count": 32,
     "metadata": {},
     "output_type": "execute_result"
    }
   ],
   "source": [
    "f.write(\"12053 is its up side\")"
   ]
  },
  {
   "cell_type": "code",
   "execution_count": 33,
   "id": "ffa1c5ce",
   "metadata": {},
   "outputs": [],
   "source": [
    "f.close()"
   ]
  },
  {
   "cell_type": "code",
   "execution_count": 34,
   "id": "56c673c5",
   "metadata": {},
   "outputs": [],
   "source": [
    "f=open(\"practice.txt\",\"a\")"
   ]
  },
  {
   "cell_type": "code",
   "execution_count": 35,
   "id": "34ef62bc",
   "metadata": {},
   "outputs": [
    {
     "data": {
      "text/plain": [
       "22"
      ]
     },
     "execution_count": 35,
     "metadata": {},
     "output_type": "execute_result"
    }
   ],
   "source": [
    "f.write(\"It runs from HW to ASR\")"
   ]
  },
  {
   "cell_type": "code",
   "execution_count": 36,
   "id": "bf9fbafa",
   "metadata": {},
   "outputs": [],
   "source": [
    "f.close()"
   ]
  },
  {
   "cell_type": "code",
   "execution_count": 42,
   "id": "cebe9f21",
   "metadata": {},
   "outputs": [],
   "source": [
    "f=open(\"hiscore.txt\", \"w\")\n",
    "f.write(\"50\")\n",
    "f.close()"
   ]
  },
  {
   "cell_type": "code",
   "execution_count": 47,
   "id": "9f3b2fed",
   "metadata": {},
   "outputs": [
    {
     "name": "stdout",
     "output_type": "stream",
     "text": [
      "152145\n"
     ]
    }
   ],
   "source": [
    "def game():\n",
    "    return int(input())\n",
    "score=game()\n",
    "with open(\"hiscore.txt\") as f:\n",
    "    highscore=int(f.read())\n",
    "if highscore<score:\n",
    "    with open(\"hiscore.txt\", \"w\") as f:\n",
    "        f.write(str(score))"
   ]
  },
  {
   "cell_type": "code",
   "execution_count": 50,
   "id": "398b1f56",
   "metadata": {},
   "outputs": [],
   "source": [
    "for i in range (21):\n",
    "    with open(f\"Table of {i}.txt\", \"w\") as f:\n",
    "        for j in range(11):\n",
    "            f.write(f\"{i} X {j} = {i*j} \\n\")"
   ]
  },
  {
   "cell_type": "code",
   "execution_count": null,
   "id": "764f3b13",
   "metadata": {},
   "outputs": [],
   "source": []
  }
 ],
 "metadata": {
  "kernelspec": {
   "display_name": "Python 3 (ipykernel)",
   "language": "python",
   "name": "python3"
  },
  "language_info": {
   "codemirror_mode": {
    "name": "ipython",
    "version": 3
   },
   "file_extension": ".py",
   "mimetype": "text/x-python",
   "name": "python",
   "nbconvert_exporter": "python",
   "pygments_lexer": "ipython3",
   "version": "3.11.4"
  }
 },
 "nbformat": 4,
 "nbformat_minor": 5
}
