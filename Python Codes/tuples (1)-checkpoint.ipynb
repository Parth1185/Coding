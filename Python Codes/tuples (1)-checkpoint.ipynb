{
 "cells": [
  {
   "cell_type": "code",
   "execution_count": 3,
   "id": "695f3ff1",
   "metadata": {},
   "outputs": [],
   "source": [
    "# Creating tuples\n",
    "tuple1 = (1, 2, 3)\n",
    "tuple2 = (\"apple\", \"banana\", \"cherry\")\n",
    "tuple3 = (1, \"hello\", 3.14)\n"
   ]
  },
  {
   "cell_type": "code",
   "execution_count": 4,
   "id": "89e03d88",
   "metadata": {},
   "outputs": [
    {
     "name": "stdout",
     "output_type": "stream",
     "text": [
      "1\n",
      "banana\n"
     ]
    }
   ],
   "source": [
    "print(tuple1[0]) \n",
    "print(tuple2[1])  \n"
   ]
  },
  {
   "cell_type": "code",
   "execution_count": 9,
   "id": "badf9217",
   "metadata": {},
   "outputs": [
    {
     "name": "stdout",
     "output_type": "stream",
     "text": [
      "(1, 2, 3, 'apple', 'banana', 'cherry')\n"
     ]
    },
    {
     "data": {
      "text/plain": [
       "(1, 2, 3, 'apple', 'banana', 'cherry')"
      ]
     },
     "execution_count": 9,
     "metadata": {},
     "output_type": "execute_result"
    }
   ],
   "source": [
    "t3 = tuple1 + tuple2\n",
    "print(t3)\n",
    "t3\n"
   ]
  },
  {
   "cell_type": "code",
   "execution_count": 6,
   "id": "6fab7958",
   "metadata": {},
   "outputs": [],
   "source": [
    "repeated_tuple = tuple1 * 3\n",
    "# Output: (1, 2, 3, 1, 2, 3, 1, 2, 3)\n",
    "\n"
   ]
  },
  {
   "cell_type": "code",
   "execution_count": 7,
   "id": "1f4b259c",
   "metadata": {},
   "outputs": [
    {
     "name": "stdout",
     "output_type": "stream",
     "text": [
      "3\n"
     ]
    }
   ],
   "source": [
    "print(len(tuple1)) \n"
   ]
  },
  {
   "cell_type": "code",
   "execution_count": 8,
   "id": "3da5a060",
   "metadata": {},
   "outputs": [
    {
     "name": "stdout",
     "output_type": "stream",
     "text": [
      "True\n",
      "False\n"
     ]
    }
   ],
   "source": [
    "print(2 in tuple1) \n",
    "print(\"orange\" in tuple2)  \n"
   ]
  },
  {
   "cell_type": "code",
   "execution_count": 7,
   "id": "ceaaee81",
   "metadata": {},
   "outputs": [
    {
     "name": "stdout",
     "output_type": "stream",
     "text": [
      "3\n"
     ]
    }
   ],
   "source": [
    "tuple1 = (1, 2, 2, 3, 4, 2)\n",
    "count = tuple1.count(2)\n",
    "print(count) \n"
   ]
  },
  {
   "cell_type": "code",
   "execution_count": 8,
   "id": "15a136a5",
   "metadata": {},
   "outputs": [
    {
     "name": "stdout",
     "output_type": "stream",
     "text": [
      "2\n"
     ]
    }
   ],
   "source": [
    "tuple1 = (1, 2, 3, 4, 5)\n",
    "index = tuple1.index(3)\n",
    "print(index) \n"
   ]
  },
  {
   "cell_type": "code",
   "execution_count": 9,
   "id": "dd92e570",
   "metadata": {},
   "outputs": [
    {
     "name": "stdout",
     "output_type": "stream",
     "text": [
      "First element: 1\n",
      "Last element: 5\n"
     ]
    }
   ],
   "source": [
    "# Creating a tuple\n",
    "my_tuple = (1, 2, 3, 4, 5)\n",
    "\n",
    "# Accessing elements of a tuple\n",
    "print(\"First element:\", my_tuple[0])\n",
    "print(\"Last element:\", my_tuple[-1])\n"
   ]
  },
  {
   "cell_type": "code",
   "execution_count": 10,
   "id": "a10cad32",
   "metadata": {},
   "outputs": [
    {
     "name": "stdout",
     "output_type": "stream",
     "text": [
      "Sliced tuple: (2, 3, 4)\n"
     ]
    }
   ],
   "source": [
    "# Slicing a tuple\n",
    "my_tuple = (1, 2, 3, 4, 5)\n",
    "sliced_tuple = my_tuple[1:4]\n",
    "print(\"Sliced tuple:\", sliced_tuple)  \n"
   ]
  },
  {
   "cell_type": "code",
   "execution_count": 11,
   "id": "9582bfd6",
   "metadata": {},
   "outputs": [
    {
     "name": "stdout",
     "output_type": "stream",
     "text": [
      "Concatenated tuple: (1, 2, 3, 4, 5, 6)\n"
     ]
    }
   ],
   "source": [
    "# Concatenating tuples\n",
    "tuple1 = (1, 2, 3)\n",
    "tuple2 = (4, 5, 6)\n",
    "concatenated_tuple = tuple1 + tuple2\n",
    "print(\"Concatenated tuple:\", concatenated_tuple)  \n"
   ]
  },
  {
   "cell_type": "code",
   "execution_count": 12,
   "id": "f006bff8",
   "metadata": {},
   "outputs": [
    {
     "name": "stdout",
     "output_type": "stream",
     "text": [
      "Repeated tuple: (1, 2, 1, 2, 1, 2)\n"
     ]
    }
   ],
   "source": [
    "# Repeating tuples\n",
    "my_tuple = (1, 2)\n",
    "repeated_tuple = my_tuple * 3\n",
    "print(\"Repeated tuple:\", repeated_tuple)  \n"
   ]
  },
  {
   "cell_type": "code",
   "execution_count": 13,
   "id": "e006eae5",
   "metadata": {},
   "outputs": [
    {
     "name": "stdout",
     "output_type": "stream",
     "text": [
      "Length of the tuple: 5\n"
     ]
    }
   ],
   "source": [
    "# Finding the length of a tuple\n",
    "my_tuple = (1, 2, 3, 4, 5)\n",
    "length = len(my_tuple)\n",
    "print(\"Length of the tuple:\", length)  \n"
   ]
  },
  {
   "cell_type": "code",
   "execution_count": 14,
   "id": "22244f2e",
   "metadata": {},
   "outputs": [
    {
     "name": "stdout",
     "output_type": "stream",
     "text": [
      "Count of 2 in the tuple: 3\n"
     ]
    }
   ],
   "source": [
    "# Counting occurrences of an element in a tuple\n",
    "my_tuple = (1, 2, 2, 3, 4, 2)\n",
    "count = my_tuple.count(2)\n",
    "print(\"Count of 2 in the tuple:\", count)  \n"
   ]
  },
  {
   "cell_type": "code",
   "execution_count": 15,
   "id": "0e6358de",
   "metadata": {},
   "outputs": [
    {
     "name": "stdout",
     "output_type": "stream",
     "text": [
      "Index of 3 in the tuple: 2\n"
     ]
    }
   ],
   "source": [
    "# Finding the index of an element in a tuple\n",
    "my_tuple = (1, 2, 3, 4, 5)\n",
    "index = my_tuple.index(3)\n",
    "print(\"Index of 3 in the tuple:\", index)  \n"
   ]
  },
  {
   "cell_type": "code",
   "execution_count": 16,
   "id": "14ce0d3d",
   "metadata": {},
   "outputs": [
    {
     "name": "stdout",
     "output_type": "stream",
     "text": [
      "x: 3\n",
      "y: 4\n"
     ]
    }
   ],
   "source": [
    "# Tuple unpacking\n",
    "coordinates = (3, 4)\n",
    "x, y = coordinates\n",
    "print(\"x:\", x) \n",
    "print(\"y:\", y) \n"
   ]
  },
  {
   "cell_type": "code",
   "execution_count": 17,
   "id": "0949c06c",
   "metadata": {},
   "outputs": [
    {
     "name": "stdout",
     "output_type": "stream",
     "text": [
      "True\n",
      "False\n"
     ]
    }
   ],
   "source": [
    "# Checking if an element is in a tuple\n",
    "my_tuple = (1, 2, 3, 4, 5)\n",
    "print(3 in my_tuple)  \n",
    "print(6 in my_tuple)  \n"
   ]
  },
  {
   "cell_type": "code",
   "execution_count": null,
   "id": "41904075",
   "metadata": {},
   "outputs": [],
   "source": []
  }
 ],
 "metadata": {
  "kernelspec": {
   "display_name": "Python 3 (ipykernel)",
   "language": "python",
   "name": "python3"
  },
  "language_info": {
   "codemirror_mode": {
    "name": "ipython",
    "version": 3
   },
   "file_extension": ".py",
   "mimetype": "text/x-python",
   "name": "python",
   "nbconvert_exporter": "python",
   "pygments_lexer": "ipython3",
   "version": "3.11.4"
  }
 },
 "nbformat": 4,
 "nbformat_minor": 5
}
