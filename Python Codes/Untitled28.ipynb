{
 "cells": [
  {
   "cell_type": "code",
   "execution_count": 2,
   "id": "1b9131f4",
   "metadata": {},
   "outputs": [
    {
     "name": "stdout",
     "output_type": "stream",
     "text": [
      "5\n",
      "1 1 1 1 1 \n",
      "0 0 0 0 \n",
      "1 1 1 \n",
      "0 0 \n",
      "1 \n"
     ]
    }
   ],
   "source": [
    "n=int(input())\n",
    "for i in range(1,n+1):\n",
    "    for k in range(1,n-i+2):\n",
    "        if i %2!=0:\n",
    "            print(1,end=\" \")\n",
    "        else:\n",
    "            print(0,end=\" \")\n",
    "    print()"
   ]
  },
  {
   "cell_type": "code",
   "execution_count": 3,
   "id": "a121aaa0",
   "metadata": {},
   "outputs": [
    {
     "name": "stdout",
     "output_type": "stream",
     "text": [
      "10\n",
      "12345678910\n",
      " 123456789\n",
      "  12345678\n",
      "   1234567\n",
      "    123456\n",
      "     12345\n",
      "      1234\n",
      "       123\n",
      "        12\n",
      "         1\n"
     ]
    }
   ],
   "source": [
    "n=int(input())\n",
    "i = n\n",
    "while i >= 1:\n",
    "    j = n\n",
    "    while j > i:\n",
    "        # display space\n",
    "        print(' ', end='')\n",
    "        j-= 1\n",
    "    k = 1\n",
    "    while k <= i:\n",
    "        print(k, end='')\n",
    "        k += 1\n",
    "    print()\n",
    "    i -= 1"
   ]
  },
  {
   "cell_type": "code",
   "execution_count": 5,
   "id": "7f185c02",
   "metadata": {},
   "outputs": [
    {
     "name": "stdout",
     "output_type": "stream",
     "text": [
      "5\n",
      "12345\n",
      " 1234\n",
      "  123\n",
      "   12\n",
      "    1\n"
     ]
    }
   ],
   "source": [
    "n=int(input())\n",
    "i = n\n",
    "while i >= 1:\n",
    "    j = n\n",
    "    while j > i:\n",
    "        # display space\n",
    "        print(' ', end='')\n",
    "        j-= 1\n",
    "    k = 1\n",
    "    while k <= i:\n",
    "        print(k, end='')\n",
    "        k += 1\n",
    "    print()\n",
    "    i -= 1"
   ]
  }
 ],
 "metadata": {
  "kernelspec": {
   "display_name": "Python 3 (ipykernel)",
   "language": "python",
   "name": "python3"
  },
  "language_info": {
   "codemirror_mode": {
    "name": "ipython",
    "version": 3
   },
   "file_extension": ".py",
   "mimetype": "text/x-python",
   "name": "python",
   "nbconvert_exporter": "python",
   "pygments_lexer": "ipython3",
   "version": "3.11.4"
  }
 },
 "nbformat": 4,
 "nbformat_minor": 5
}
